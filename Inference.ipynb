{
  "nbformat": 4,
  "nbformat_minor": 0,
  "metadata": {
    "colab": {
      "name": "Stylumia_Task.ipynb",
      "provenance": [],
      "collapsed_sections": [
        "o33l8svhBOJ9",
        "RD2CBIXQ1adS",
        "zkt5teNv7yJE",
        "bnOTcozoMuF9",
        "a2ojyxOe2UGS"
      ],
      "authorship_tag": "ABX9TyMcvqWgV69zgjKxaZLfD32E"
    },
    "kernelspec": {
      "name": "python3",
      "display_name": "Python 3"
    },
    "accelerator": "GPU"
  },
  "cells": [
    {
      "cell_type": "markdown",
      "metadata": {
        "id": "WQ63BDyuBJ4R"
      },
      "source": [
        "# Mounting and Loading"
      ]
    },
    {
      "cell_type": "code",
      "metadata": {
        "colab": {
          "base_uri": "https://localhost:8080/"
        },
        "id": "8ornwlI7md9E",
        "outputId": "49f5d34d-1d56-43b7-a617-b6b8d1155d96"
      },
      "source": [
        "from google.colab import drive\r\n",
        "drive.mount('/gdrive')"
      ],
      "execution_count": null,
      "outputs": [
        {
          "output_type": "stream",
          "text": [
            "Mounted at /gdrive\n"
          ],
          "name": "stdout"
        }
      ]
    },
    {
      "cell_type": "code",
      "metadata": {
        "id": "TxI7eV95mnnC"
      },
      "source": [
        "# %cd /gdrive/MyDrive/Projects/Stylumia\r\n",
        "# !unzip stumbleupon.zip\r\n",
        "# !rm stumbleupon.zip\r\n",
        "# !unzip /gdrive/MyDrive/Projects/Stylumia/raw_content.zip\r\n",
        "# !rm /gdrive/MyDrive/Projects/Stylumia/raw_content.zip\r\n",
        "# %cd /content/"
      ],
      "execution_count": null,
      "outputs": []
    },
    {
      "cell_type": "code",
      "metadata": {
        "id": "QkeMdrNXu9g1"
      },
      "source": [
        "!pip install torch==1.6.0 "
      ],
      "execution_count": null,
      "outputs": []
    },
    {
      "cell_type": "code",
      "metadata": {
        "id": "GbPyxtkSlqVA",
        "colab": {
          "base_uri": "https://localhost:8080/"
        },
        "outputId": "10611db6-8bf1-4dd3-bbbe-6d47209ebc64"
      },
      "source": [
        "import numpy as np\r\n",
        "import matplotlib.pyplot as plt\r\n",
        "import random\r\n",
        "import pandas as pd\r\n",
        "import nltk\r\n",
        "import re\r\n",
        "from sklearn.model_selection import train_test_split\r\n",
        "from nltk.corpus import stopwords\r\n",
        "nltk.download('stopwords')\r\n",
        "nltk.download('wordnet')\r\n",
        "stop = stopwords.words('english')\r\n",
        "\r\n",
        "import torch\r\n",
        "from torchtext import data\r\n",
        "import torch.nn as nn\r\n",
        "import torch.optim as optim"
      ],
      "execution_count": null,
      "outputs": [
        {
          "output_type": "stream",
          "text": [
            "[nltk_data] Downloading package stopwords to /root/nltk_data...\n",
            "[nltk_data]   Unzipping corpora/stopwords.zip.\n",
            "[nltk_data] Downloading package wordnet to /root/nltk_data...\n",
            "[nltk_data]   Unzipping corpora/wordnet.zip.\n"
          ],
          "name": "stdout"
        }
      ]
    },
    {
      "cell_type": "markdown",
      "metadata": {
        "id": "o33l8svhBOJ9"
      },
      "source": [
        "# Data"
      ]
    },
    {
      "cell_type": "code",
      "metadata": {
        "id": "_JF--vK5nggb"
      },
      "source": [
        "# Reading relevant data from the dataset\r\n",
        "df = pd.read_csv('/gdrive/MyDrive/Projects/Stylumia/train.tsv',sep = '\\t',usecols=['urlid','boilerplate','label'])\r\n",
        "test = pd.read_csv('/gdrive/MyDrive/Projects/Stylumia/test.tsv',sep = '\\t',usecols=['urlid','boilerplate'])"
      ],
      "execution_count": null,
      "outputs": []
    },
    {
      "cell_type": "code",
      "metadata": {
        "colab": {
          "base_uri": "https://localhost:8080/"
        },
        "id": "VnucobxBjDuu",
        "outputId": "ec42523a-9df6-4a29-d92f-c1a98ce5da6f"
      },
      "source": [
        "print(df.shape)\r\n",
        "print(test.shape)"
      ],
      "execution_count": null,
      "outputs": [
        {
          "output_type": "stream",
          "text": [
            "(7395, 3)\n",
            "(3171, 2)\n"
          ],
          "name": "stdout"
        }
      ]
    },
    {
      "cell_type": "markdown",
      "metadata": {
        "id": "RD2CBIXQ1adS"
      },
      "source": [
        "# Cleaning Text"
      ]
    },
    {
      "cell_type": "code",
      "metadata": {
        "id": "7QN3iEy43q_r"
      },
      "source": [
        "# Removing title, url and {} brackets\r\n",
        "df['boilerplate'].replace(to_replace=r'\"title\":', value=\"\",inplace=True,regex=True)\r\n",
        "df['boilerplate'].replace(to_replace=r'\"url\":',value=\"\",inplace=True,regex=True)\r\n",
        "\r\n",
        "df['boilerplate'].replace(to_replace=r'{|}',value=\"\",inplace=True,regex=True)\r\n",
        "df['boilerplate']=df['boilerplate'].str.lower()\r\n",
        "\r\n",
        "test['boilerplate'].replace(to_replace=r'\"title\":', value=\"\",inplace=True,regex=True)\r\n",
        "test['boilerplate'].replace(to_replace=r'\"url\":',value=\"\",inplace=True,regex=True)\r\n",
        "\r\n",
        "test['boilerplate'].replace(to_replace=r'{|}',value=\"\",inplace=True,regex=True)\r\n",
        "test['boilerplate']=test['boilerplate'].str.lower()"
      ],
      "execution_count": null,
      "outputs": []
    },
    {
      "cell_type": "code",
      "metadata": {
        "colab": {
          "base_uri": "https://localhost:8080/",
          "height": 195
        },
        "id": "lE0X6K8L3ZbG",
        "outputId": "0391426c-0e62-42d3-c65a-5f016ced54ca"
      },
      "source": [
        "df.head()"
      ],
      "execution_count": null,
      "outputs": [
        {
          "output_type": "execute_result",
          "data": {
            "text/html": [
              "<div>\n",
              "<style scoped>\n",
              "    .dataframe tbody tr th:only-of-type {\n",
              "        vertical-align: middle;\n",
              "    }\n",
              "\n",
              "    .dataframe tbody tr th {\n",
              "        vertical-align: top;\n",
              "    }\n",
              "\n",
              "    .dataframe thead th {\n",
              "        text-align: right;\n",
              "    }\n",
              "</style>\n",
              "<table border=\"1\" class=\"dataframe\">\n",
              "  <thead>\n",
              "    <tr style=\"text-align: right;\">\n",
              "      <th></th>\n",
              "      <th>urlid</th>\n",
              "      <th>boilerplate</th>\n",
              "      <th>label</th>\n",
              "    </tr>\n",
              "  </thead>\n",
              "  <tbody>\n",
              "    <tr>\n",
              "      <th>0</th>\n",
              "      <td>4042</td>\n",
              "      <td>\"ibm sees holographic calls air breathing batt...</td>\n",
              "      <td>0</td>\n",
              "    </tr>\n",
              "    <tr>\n",
              "      <th>1</th>\n",
              "      <td>8471</td>\n",
              "      <td>\"the fully electronic futuristic starting gun ...</td>\n",
              "      <td>1</td>\n",
              "    </tr>\n",
              "    <tr>\n",
              "      <th>2</th>\n",
              "      <td>1164</td>\n",
              "      <td>\"fruits that fight the flu fruits that fight t...</td>\n",
              "      <td>1</td>\n",
              "    </tr>\n",
              "    <tr>\n",
              "      <th>3</th>\n",
              "      <td>6684</td>\n",
              "      <td>\"10 foolproof tips for better sleep \",\"body\":\"...</td>\n",
              "      <td>1</td>\n",
              "    </tr>\n",
              "    <tr>\n",
              "      <th>4</th>\n",
              "      <td>9006</td>\n",
              "      <td>\"the 50 coolest jerseys you didn t know existe...</td>\n",
              "      <td>0</td>\n",
              "    </tr>\n",
              "  </tbody>\n",
              "</table>\n",
              "</div>"
            ],
            "text/plain": [
              "   urlid                                        boilerplate  label\n",
              "0   4042  \"ibm sees holographic calls air breathing batt...      0\n",
              "1   8471  \"the fully electronic futuristic starting gun ...      1\n",
              "2   1164  \"fruits that fight the flu fruits that fight t...      1\n",
              "3   6684  \"10 foolproof tips for better sleep \",\"body\":\"...      1\n",
              "4   9006  \"the 50 coolest jerseys you didn t know existe...      0"
            ]
          },
          "metadata": {
            "tags": []
          },
          "execution_count": 7
        }
      ]
    },
    {
      "cell_type": "code",
      "metadata": {
        "id": "nEJMA24f1adS"
      },
      "source": [
        "def clean(df,col):\n",
        "  # Regex Processing\n",
        "  def reg(text):\n",
        "      text = text.replace('''\"body\"''',' ')\n",
        "      text = text.replace(''',''',' ')\n",
        "      text = re.sub(r'@\\w+|rt\\s@\\w+|https?:\\/\\/.*[\\r]*|#\\w+|[^\\w\\s]|[0-9]*|', '', str(text).lower().strip())\n",
        "      text = re.sub('[ \\t]+' , ' ', str(text))\n",
        "      return text\n",
        "\n",
        "  # Removing StopWords\n",
        "  def stopWordRemoval(x):\n",
        "      x = ' '.join([word for word in str(x).split() if word not in (stop)])\n",
        "      return x\n",
        "      \n",
        "  # Lemmating tweets\n",
        "  w_tokenizer = nltk.tokenize.WhitespaceTokenizer()\n",
        "  lemmatizer = nltk.stem.WordNetLemmatizer()\n",
        "  def lemmatize_text(text):\n",
        "      return ' '.join([lemmatizer.lemmatize(w) for w in w_tokenizer.tokenize(text)])\n",
        "\n",
        "  df[col] = df[col].apply(reg)\n",
        "  df[col] = df[col].apply(stopWordRemoval)\n",
        "  df[col] = df[col].apply(lemmatize_text)\n",
        "  return df\n",
        "\n",
        "# Cleaning, Removing Stop Words, Tokenizing and Lemmatizing text\n",
        "df = clean(df,'boilerplate')\n",
        "test = clean(test,'boilerplate')"
      ],
      "execution_count": null,
      "outputs": []
    },
    {
      "cell_type": "code",
      "metadata": {
        "id": "CXLdJVLFjViz"
      },
      "source": [
        "# df.drop(columns='urlid',inplace=True)\r\n",
        "# test.drop(columns='urlid',inplace=True)"
      ],
      "execution_count": null,
      "outputs": []
    },
    {
      "cell_type": "markdown",
      "metadata": {
        "id": "zkt5teNv7yJE"
      },
      "source": [
        "# Tensorizing Data"
      ]
    },
    {
      "cell_type": "code",
      "metadata": {
        "id": "P5LCCWLrtOlV",
        "colab": {
          "base_uri": "https://localhost:8080/"
        },
        "outputId": "27360322-345f-4283-e93d-9af0db3f72db"
      },
      "source": [
        "# Spliting into Train and Validation set\n",
        "train, val  = train_test_split(df,random_state = 42,test_size = 0.2)\n",
        "print(train.shape,val.shape)"
      ],
      "execution_count": null,
      "outputs": [
        {
          "output_type": "stream",
          "text": [
            "(5916, 3) (1479, 3)\n"
          ],
          "name": "stdout"
        }
      ]
    },
    {
      "cell_type": "code",
      "metadata": {
        "id": "eQE5Smfc2k7M"
      },
      "source": [
        "TEXT = data.Field(tokenize = 'spacy', include_lengths = True)\n",
        "LABEL = data.LabelField(dtype = torch.float)"
      ],
      "execution_count": null,
      "outputs": []
    },
    {
      "cell_type": "code",
      "metadata": {
        "id": "R1wqwiZB2qZq"
      },
      "source": [
        "# Creating Dataset class \n",
        "class DataFrameDataset(data.Dataset):\n",
        "\n",
        "    def __init__(self, df, fields, is_test=False, **kwargs):\n",
        "        examples = []\n",
        "        for i, row in df.iterrows():\n",
        "            label = row.label if not is_test else None\n",
        "            text = row.boilerplate\n",
        "            examples.append(data.Example.fromlist([text, label], fields))\n",
        "\n",
        "        super().__init__(examples, fields, **kwargs)\n",
        "\n",
        "    @staticmethod\n",
        "    def sort_key(ex):\n",
        "        return len(ex.text)\n",
        "\n",
        "    @classmethod\n",
        "    def splits(cls, fields, train_df, val_df=None, test_df=None, **kwargs):\n",
        "        train_data, val_data, test_data = (None, None, None)\n",
        "        data_field = fields\n",
        "\n",
        "        if train_df is not None:\n",
        "            train_data = cls(train_df.copy(), data_field, **kwargs)\n",
        "        if val_df is not None:\n",
        "            val_data = cls(val_df.copy(), data_field, **kwargs)\n",
        "        if test_df is not None:\n",
        "            test_data = cls(test_df.copy(), data_field, True, **kwargs)\n",
        "\n",
        "        return tuple(d for d in (train_data, val_data, test_data) if d is not None)"
      ],
      "execution_count": null,
      "outputs": []
    },
    {
      "cell_type": "code",
      "metadata": {
        "id": "C_otznnH3tLM"
      },
      "source": [
        "# Creating torch Datasets \n",
        "fields = [('text',TEXT),('label',LABEL)]\n",
        "train_ds, val_ds, test_ds = DataFrameDataset.splits(fields, train_df=train, val_df=val, test_df=test)"
      ],
      "execution_count": null,
      "outputs": []
    },
    {
      "cell_type": "code",
      "metadata": {
        "id": "GT5Mfsu14zwu",
        "colab": {
          "base_uri": "https://localhost:8080/"
        },
        "outputId": "4b92b5a2-b789-41cd-cd8c-4c8ac1b02160"
      },
      "source": [
        "# Lets look at a random example\n",
        "print(test_ds[0].text)\n",
        "\n",
        "# Check the type \n",
        "print(type(train_ds[15]))"
      ],
      "execution_count": null,
      "outputs": [
        {
          "output_type": "stream",
          "text": [
            "['homemade', 'enchilada', 'sauce', 'lynn', 'kitchen', 'adventure', 'usually', 'buy', 'enchilada', 'sauce', 'yes', 'knew', 'making', 'never', 'found', 'recipe', 'really', 'happy', 'tried', 'several', 'good', 'stuck', 'canned', 'stuff', 'get', 'grocery', 'store', 'recently', 'talking', 'friend', 'mine', 'lived', 'mexico', 'year', 'know', 'mexican', 'cooking', 'asked', 'made', 'enchilada', 'sauce', 'told', 'basic', 'gave', 'exact', 'recipe', 'decided', 'give', 'try', 'recipe', 'really', 'good', 'best', 'enchilada', 'sauce', 'made', 'great', 'flavor', 'think', 'even', 'better', 'canned', 'sauce', 'husband', 'thought', 'could', 'spicier', 'like', 'enchilada', 'spicy', 'always', 'add', 'chili', 'powder', 'chilies', 'like', 'really', 'spicy', 'kid', 'thought', 'really', 'good', 'like', 'change', 'two', 'thing', 'called', 'green', 'onion', 'used', 'regular', 'onion', 'thought', 'worked', 'great', 'probably', 'continue', 'make', 'way', 'also', 'pureed', 'everything', 'blender', 'wanted', 'smooth', 'sauce', 'want', 'chunky', 'mix', 'ingredient', 'together', 'blend', 'enchilada', 'pretty', 'frugal', 'meal', 'homemade', 'enchilada', 'sauce', 'great', 'way', 'make', 'enchilada', 'even', 'frugal', 'ounce', 'can', 'tomato', 'sauce', 'ounce', 'chopped', 'green', 'chilies', 'undrained', 'cup', 'onion', 'chopped', 'teaspoon', 'chili', 'powder', 'teaspoon', 'ground', 'cumin', 'teaspoon', 'dried', 'oregano', 'clove', 'garlic', 'minced', 'combine', 'tomato', 'sauce', 'ingredient', 'place', 'blender', 'puree', 'ingredient', 'place', 'saucepan', 'heat', 'medium', 'heat', 'heated', 'minute', 'use', 'desired', 'enchilada', 'get', 'free', 'quick', 'easy', 'breakfast', 'ebook', 'subscribe', 'free', 'email', 'update', 'lynn', 'kitchen', 'adventure', 'like', 'article', 'share', 'homemade', 'enchilada', 'sauce', 'recipe', 'came', 'friend', 'mine', 'spent', 'several', 'year', 'mexico', 'lynnskitchenadventures', 'homemade', 'enchilada', 'sauce', 'html']\n",
            "<class 'torchtext.data.example.Example'>\n"
          ],
          "name": "stdout"
        }
      ]
    },
    {
      "cell_type": "code",
      "metadata": {
        "id": "-wEINxms5Bm5",
        "colab": {
          "base_uri": "https://localhost:8080/"
        },
        "outputId": "9261381f-9681-47da-de80-0ab62e6b8447"
      },
      "source": [
        "# Loading Glove embeddings and building vocab\n",
        "MAX_VOCAB_SIZE = 50000\n",
        "\n",
        "TEXT.build_vocab(train_ds, \n",
        "                 vectors = 'glove.42B.300d',\n",
        "                 max_size = MAX_VOCAB_SIZE,\n",
        "                 unk_init = torch.Tensor.zero_)"
      ],
      "execution_count": null,
      "outputs": [
        {
          "output_type": "stream",
          "text": [
            ".vector_cache/glove.42B.300d.zip: 1.88GB [05:54, 5.30MB/s]                            \n",
            "100%|█████████▉| 1916531/1917494 [03:30<00:00, 9931.41it/s]"
          ],
          "name": "stderr"
        }
      ]
    },
    {
      "cell_type": "code",
      "metadata": {
        "id": "N-agwP1igrij"
      },
      "source": [
        "LABEL.build_vocab(train_ds)"
      ],
      "execution_count": null,
      "outputs": []
    },
    {
      "cell_type": "code",
      "metadata": {
        "id": "91vEFolzGEzk"
      },
      "source": [
        "PAD_IDX = TEXT.vocab.stoi[TEXT.pad_token] \r\n",
        "PAD_IDX"
      ],
      "execution_count": null,
      "outputs": []
    },
    {
      "cell_type": "markdown",
      "metadata": {
        "id": "UW7dc2Xmvd1l"
      },
      "source": [
        "# Model"
      ]
    },
    {
      "cell_type": "markdown",
      "metadata": {
        "id": "tboQnW5jMfbl"
      },
      "source": [
        "## Architecture "
      ]
    },
    {
      "cell_type": "code",
      "metadata": {
        "id": "J5joSSjgvU1I"
      },
      "source": [
        "# Creating a pytorch BiLSTM Model\n",
        "class Model(nn.Module):\n",
        "    def __init__(self, num_emb, emb_dim, pad_idx, hi_s,out_s, num_la, bidir, drop):\n",
        "        super().__init__()\n",
        "        self.bidir = bidir\n",
        "\n",
        "        self.emb =nn.Embedding(num_embeddings=num_emb,\n",
        "                               embedding_dim=emb_dim,\n",
        "                               padding_idx=pad_idx)\n",
        "        self.lstm =nn.LSTM(input_size=emb_dim,\n",
        "                           hidden_size=hi_s,\n",
        "                           num_layers=num_la,\n",
        "                           bidirectional=bidir,\n",
        "                           dropout = drop)\n",
        "        if bidir:\n",
        "          self.fc_bi = nn.Linear(2*hi_s,hi_s)\n",
        "\n",
        "        self.fc_class = nn.Linear(hi_s,out_s)\n",
        "        self.dropout = nn.Dropout(drop)\n",
        "        self.sigmoid = nn.Sigmoid()\n",
        "    \n",
        "    def forward(self,text,text_len):\n",
        "\n",
        "        embed = self.emb(text)\n",
        "        pack = nn.utils.rnn.pack_padded_sequence(embed, text_len)\n",
        "        out, (hid,cell)  = self.lstm(pack)\n",
        "\n",
        "        if self.bidir:\n",
        "          hid = self.dropout(torch.cat((hid[-2,:,:], hid[-1,:,:]), dim = 1))\n",
        "          hid = self.fc_bi(hid)\n",
        "\n",
        "        out = self.fc_class(hid)\n",
        "        out = torch.squeeze(out)\n",
        "        out = self.sigmoid(out)\n",
        "\n",
        "        return out"
      ],
      "execution_count": null,
      "outputs": []
    },
    {
      "cell_type": "markdown",
      "metadata": {
        "id": "rlJIxtEqJvow"
      },
      "source": [
        "## Inference"
      ]
    },
    {
      "cell_type": "code",
      "metadata": {
        "colab": {
          "base_uri": "https://localhost:8080/"
        },
        "id": "LA1_S2MoKKNe",
        "outputId": "e5c04fe4-611a-4ee3-dc5d-6cce7267b6bc"
      },
      "source": [
        "# Hyperparameters\n",
        "INPUT_DIM = 50002\n",
        "EMBED_DIM = 300\n",
        "HID_DIM = 128\n",
        "OUT_DIM = 1\n",
        "N_LAYERS = 4\n",
        "BIDIR = True\n",
        "DROP = 0.3\n",
        "PAD_IDX = 1\n",
        "\n",
        "# Initialising Model\n",
        "net = Model(num_emb = INPUT_DIM,\n",
        "            emb_dim = EMBED_DIM,\n",
        "            pad_idx = PAD_IDX,\n",
        "            out_s = OUT_DIM,\n",
        "            hi_s = HID_DIM,\n",
        "            num_la = N_LAYERS,\n",
        "            bidir = BIDIR,\n",
        "            drop = DROP)\n",
        "net.load_state_dict(torch.load(\"/gdrive/MyDrive/Projects/Stylumia/bestModel.pt\"))\n",
        "print(net)"
      ],
      "execution_count": null,
      "outputs": [
        {
          "output_type": "stream",
          "text": [
            "Model(\n",
            "  (emb): Embedding(50002, 300, padding_idx=1)\n",
            "  (lstm): LSTM(300, 128, num_layers=4, dropout=0.3, bidirectional=True)\n",
            "  (fc_bi): Linear(in_features=256, out_features=128, bias=True)\n",
            "  (fc_class): Linear(in_features=128, out_features=1, bias=True)\n",
            "  (dropout): Dropout(p=0.3, inplace=False)\n",
            "  (sigmoid): Sigmoid()\n",
            ")\n"
          ],
          "name": "stdout"
        }
      ]
    },
    {
      "cell_type": "code",
      "metadata": {
        "id": "ehfc5EtJJrDR"
      },
      "source": [
        "# Choosing CUDA if avialable\r\n",
        "device = torch.device('cuda' if torch.cuda.is_available() else 'cpu')"
      ],
      "execution_count": null,
      "outputs": []
    },
    {
      "cell_type": "code",
      "metadata": {
        "colab": {
          "base_uri": "https://localhost:8080/"
        },
        "id": "BCAxCf6TTOjL",
        "outputId": "1adc4f9c-e5ff-4f87-f0b4-5051765f8bda"
      },
      "source": [
        "# Sending model to device\r\n",
        "net.to(device)"
      ],
      "execution_count": null,
      "outputs": [
        {
          "output_type": "execute_result",
          "data": {
            "text/plain": [
              "Model(\n",
              "  (emb): Embedding(50002, 300, padding_idx=1)\n",
              "  (lstm): LSTM(300, 128, num_layers=4, dropout=0.3, bidirectional=True)\n",
              "  (fc_bi): Linear(in_features=256, out_features=128, bias=True)\n",
              "  (fc_class): Linear(in_features=128, out_features=1, bias=True)\n",
              "  (dropout): Dropout(p=0.3, inplace=False)\n",
              "  (sigmoid): Sigmoid()\n",
              ")"
            ]
          },
          "metadata": {
            "tags": []
          },
          "execution_count": 42
        }
      ]
    },
    {
      "cell_type": "code",
      "metadata": {
        "id": "o7DNKQENvJIY"
      },
      "source": [
        "#inference \r\n",
        "import spacy\r\n",
        "nlp = spacy.load('en')\r\n",
        "\r\n",
        "def predict(model, sentence):\r\n",
        "    tokenized = [tok.text for tok in nlp.tokenizer(sentence)]  #tokenize the sentence \r\n",
        "    indexed = [TEXT.vocab.stoi[t] for t in tokenized]          #convert to integer sequence\r\n",
        "    length = [len(indexed)]                                   #compute no. of words\r\n",
        "    tensor = torch.LongTensor(indexed).to(device)              #convert to tensor\r\n",
        "    tensor = tensor.unsqueeze(1)                            #reshape in form of batch,no. of words\r\n",
        "    length_tensor = torch.Tensor(length)               #convert to tensor\r\n",
        "    model.eval()\r\n",
        "    prediction = model(tensor.to(device), length_tensor)                  #prediction \r\n",
        "    return int(torch.round(torch.sigmoid(prediction)).item())"
      ],
      "execution_count": null,
      "outputs": []
    },
    {
      "cell_type": "code",
      "metadata": {
        "id": "KZj37JSvLco_"
      },
      "source": [
        "# Performing inference on all test samples\r\n",
        "result = []\r\n",
        "for i in range(len(test)):\r\n",
        "    _res = predict(net,test.boilerplate[i])\r\n",
        "    _urlid = test.urlid[i]\r\n",
        "    result.append([_urlid,_res])"
      ],
      "execution_count": null,
      "outputs": []
    },
    {
      "cell_type": "code",
      "metadata": {
        "id": "DoIaa55rQNEo"
      },
      "source": [
        "# Converting output to csv file\r\n",
        "submit = pd.DataFrame(result,columns=['urlid','predicted'])"
      ],
      "execution_count": null,
      "outputs": []
    },
    {
      "cell_type": "code",
      "metadata": {
        "id": "ZSj5-g41QyXa"
      },
      "source": [
        "# Saving csv file\r\n",
        "submit.to_csv('/gdrive/MyDrive/Projects/Stylumia/submit.csv')"
      ],
      "execution_count": null,
      "outputs": []
    },
    {
      "cell_type": "code",
      "metadata": {
        "id": "WHipkMZJRNKz"
      },
      "source": [
        ""
      ],
      "execution_count": null,
      "outputs": []
    }
  ]
}