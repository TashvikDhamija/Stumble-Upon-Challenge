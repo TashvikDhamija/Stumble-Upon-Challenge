{
  "nbformat": 4,
  "nbformat_minor": 0,
  "metadata": {
    "colab": {
      "name": "Stylumia_Task.ipynb",
      "provenance": [],
      "collapsed_sections": [
        "o33l8svhBOJ9",
        "RD2CBIXQ1adS",
        "zkt5teNv7yJE",
        "bnOTcozoMuF9",
        "a2ojyxOe2UGS"
      ],
      "authorship_tag": "ABX9TyOmRU6Zgl17gNA17MCdVDqY"
    },
    "kernelspec": {
      "name": "python3",
      "display_name": "Python 3"
    },
    "accelerator": "GPU"
  },
  "cells": [
    {
      "cell_type": "markdown",
      "metadata": {
        "id": "WQ63BDyuBJ4R"
      },
      "source": [
        "# Mounting and Loading"
      ]
    },
    {
      "cell_type": "code",
      "metadata": {
        "colab": {
          "base_uri": "https://localhost:8080/"
        },
        "id": "8ornwlI7md9E",
        "outputId": "49f5d34d-1d56-43b7-a617-b6b8d1155d96"
      },
      "source": [
        "from google.colab import drive\r\n",
        "drive.mount('/gdrive')"
      ],
      "execution_count": 1,
      "outputs": [
        {
          "output_type": "stream",
          "text": [
            "Mounted at /gdrive\n"
          ],
          "name": "stdout"
        }
      ]
    },
    {
      "cell_type": "code",
      "metadata": {
        "id": "TxI7eV95mnnC"
      },
      "source": [
        "# %cd /gdrive/MyDrive/Projects/Stylumia\r\n",
        "# !unzip stumbleupon.zip\r\n",
        "# !rm stumbleupon.zip\r\n",
        "# !unzip /gdrive/MyDrive/Projects/Stylumia/raw_content.zip\r\n",
        "# !rm /gdrive/MyDrive/Projects/Stylumia/raw_content.zip\r\n",
        "# %cd /content/"
      ],
      "execution_count": null,
      "outputs": []
    },
    {
      "cell_type": "code",
      "metadata": {
        "colab": {
          "base_uri": "https://localhost:8080/",
          "height": 286
        },
        "id": "QkeMdrNXu9g1",
        "outputId": "a78c5f06-3424-44cf-f7d5-c0b533af84d4"
      },
      "source": [
        "!pip install torch==1.6.0 "
      ],
      "execution_count": null,
      "outputs": [
        {
          "output_type": "stream",
          "text": [
            "Collecting torch==1.6.0\n",
            "\u001b[?25l  Downloading https://files.pythonhosted.org/packages/5d/5e/35140615fc1f925023f489e71086a9ecc188053d263d3594237281284d82/torch-1.6.0-cp37-cp37m-manylinux1_x86_64.whl (748.8MB)\n",
            "\u001b[K     |████████████████████████████████| 748.8MB 19kB/s \n",
            "\u001b[?25hRequirement already satisfied: numpy in /usr/local/lib/python3.7/dist-packages (from torch==1.6.0) (1.19.5)\n",
            "Requirement already satisfied: future in /usr/local/lib/python3.7/dist-packages (from torch==1.6.0) (0.16.0)\n",
            "\u001b[31mERROR: torchvision 0.8.2+cu101 has requirement torch==1.7.1, but you'll have torch 1.6.0 which is incompatible.\u001b[0m\n",
            "Installing collected packages: torch\n",
            "  Found existing installation: torch 1.7.1+cu101\n",
            "    Uninstalling torch-1.7.1+cu101:\n",
            "      Successfully uninstalled torch-1.7.1+cu101\n",
            "Successfully installed torch-1.6.0\n"
          ],
          "name": "stdout"
        },
        {
          "output_type": "display_data",
          "data": {
            "application/vnd.colab-display-data+json": {
              "pip_warning": {
                "packages": [
                  "torch"
                ]
              }
            }
          },
          "metadata": {
            "tags": []
          }
        }
      ]
    },
    {
      "cell_type": "code",
      "metadata": {
        "id": "GbPyxtkSlqVA",
        "colab": {
          "base_uri": "https://localhost:8080/"
        },
        "outputId": "10611db6-8bf1-4dd3-bbbe-6d47209ebc64"
      },
      "source": [
        "import numpy as np\r\n",
        "import matplotlib.pyplot as plt\r\n",
        "import random\r\n",
        "import pandas as pd\r\n",
        "import nltk\r\n",
        "import re\r\n",
        "from sklearn.model_selection import train_test_split\r\n",
        "from nltk.corpus import stopwords\r\n",
        "nltk.download('stopwords')\r\n",
        "nltk.download('wordnet')\r\n",
        "stop = stopwords.words('english')\r\n",
        "\r\n",
        "import torch\r\n",
        "from torchtext import data\r\n",
        "import torch.nn as nn\r\n",
        "import torch.optim as optim"
      ],
      "execution_count": 2,
      "outputs": [
        {
          "output_type": "stream",
          "text": [
            "[nltk_data] Downloading package stopwords to /root/nltk_data...\n",
            "[nltk_data]   Unzipping corpora/stopwords.zip.\n",
            "[nltk_data] Downloading package wordnet to /root/nltk_data...\n",
            "[nltk_data]   Unzipping corpora/wordnet.zip.\n"
          ],
          "name": "stdout"
        }
      ]
    },
    {
      "cell_type": "markdown",
      "metadata": {
        "id": "o33l8svhBOJ9"
      },
      "source": [
        "# Data"
      ]
    },
    {
      "cell_type": "code",
      "metadata": {
        "id": "_JF--vK5nggb"
      },
      "source": [
        "# Reading relevant data from the dataset\r\n",
        "df = pd.read_csv('/gdrive/MyDrive/Projects/Stylumia/train.tsv',sep = '\\t',usecols=['urlid','boilerplate','label'])\r\n",
        "test = pd.read_csv('/gdrive/MyDrive/Projects/Stylumia/test.tsv',sep = '\\t',usecols=['urlid','boilerplate'])"
      ],
      "execution_count": 3,
      "outputs": []
    },
    {
      "cell_type": "code",
      "metadata": {
        "colab": {
          "base_uri": "https://localhost:8080/"
        },
        "id": "VnucobxBjDuu",
        "outputId": "ec42523a-9df6-4a29-d92f-c1a98ce5da6f"
      },
      "source": [
        "print(df.shape)\r\n",
        "print(test.shape)"
      ],
      "execution_count": 4,
      "outputs": [
        {
          "output_type": "stream",
          "text": [
            "(7395, 3)\n",
            "(3171, 2)\n"
          ],
          "name": "stdout"
        }
      ]
    },
    {
      "cell_type": "code",
      "metadata": {
        "colab": {
          "base_uri": "https://localhost:8080/",
          "height": 195
        },
        "id": "M0ltObKF47ay",
        "outputId": "22619936-cfc8-44a8-8ffa-9ea8dd8d4129"
      },
      "source": [
        "test.head()"
      ],
      "execution_count": 113,
      "outputs": [
        {
          "output_type": "execute_result",
          "data": {
            "text/html": [
              "<div>\n",
              "<style scoped>\n",
              "    .dataframe tbody tr th:only-of-type {\n",
              "        vertical-align: middle;\n",
              "    }\n",
              "\n",
              "    .dataframe tbody tr th {\n",
              "        vertical-align: top;\n",
              "    }\n",
              "\n",
              "    .dataframe thead th {\n",
              "        text-align: right;\n",
              "    }\n",
              "</style>\n",
              "<table border=\"1\" class=\"dataframe\">\n",
              "  <thead>\n",
              "    <tr style=\"text-align: right;\">\n",
              "      <th></th>\n",
              "      <th>urlid</th>\n",
              "      <th>boilerplate</th>\n",
              "    </tr>\n",
              "  </thead>\n",
              "  <tbody>\n",
              "    <tr>\n",
              "      <th>0</th>\n",
              "      <td>5865</td>\n",
              "      <td>homemade enchilada sauce lynn kitchen adventur...</td>\n",
              "    </tr>\n",
              "    <tr>\n",
              "      <th>1</th>\n",
              "      <td>782</td>\n",
              "      <td>lolpics stun grenade ar funny picture lolpicss...</td>\n",
              "    </tr>\n",
              "    <tr>\n",
              "      <th>2</th>\n",
              "      <td>6962</td>\n",
              "      <td>treadmill treadmill stair climber treadmill xc...</td>\n",
              "    </tr>\n",
              "    <tr>\n",
              "      <th>3</th>\n",
              "      <td>7640</td>\n",
              "      <td>father tactic used assad crush revolt threaten...</td>\n",
              "    </tr>\n",
              "    <tr>\n",
              "      <th>4</th>\n",
              "      <td>3589</td>\n",
              "      <td>stem turn lemon lime juicy atomizer gadget lab...</td>\n",
              "    </tr>\n",
              "  </tbody>\n",
              "</table>\n",
              "</div>"
            ],
            "text/plain": [
              "   urlid                                        boilerplate\n",
              "0   5865  homemade enchilada sauce lynn kitchen adventur...\n",
              "1    782  lolpics stun grenade ar funny picture lolpicss...\n",
              "2   6962  treadmill treadmill stair climber treadmill xc...\n",
              "3   7640  father tactic used assad crush revolt threaten...\n",
              "4   3589  stem turn lemon lime juicy atomizer gadget lab..."
            ]
          },
          "metadata": {
            "tags": []
          },
          "execution_count": 113
        }
      ]
    },
    {
      "cell_type": "markdown",
      "metadata": {
        "id": "RD2CBIXQ1adS"
      },
      "source": [
        "# Cleaning Text"
      ]
    },
    {
      "cell_type": "code",
      "metadata": {
        "id": "7QN3iEy43q_r"
      },
      "source": [
        "# Removing title, url and {} brackets\r\n",
        "df['boilerplate'].replace(to_replace=r'\"title\":', value=\"\",inplace=True,regex=True)\r\n",
        "df['boilerplate'].replace(to_replace=r'\"url\":',value=\"\",inplace=True,regex=True)\r\n",
        "\r\n",
        "df['boilerplate'].replace(to_replace=r'{|}',value=\"\",inplace=True,regex=True)\r\n",
        "df['boilerplate']=df['boilerplate'].str.lower()\r\n",
        "\r\n",
        "test['boilerplate'].replace(to_replace=r'\"title\":', value=\"\",inplace=True,regex=True)\r\n",
        "test['boilerplate'].replace(to_replace=r'\"url\":',value=\"\",inplace=True,regex=True)\r\n",
        "\r\n",
        "test['boilerplate'].replace(to_replace=r'{|}',value=\"\",inplace=True,regex=True)\r\n",
        "test['boilerplate']=test['boilerplate'].str.lower()"
      ],
      "execution_count": 6,
      "outputs": []
    },
    {
      "cell_type": "code",
      "metadata": {
        "colab": {
          "base_uri": "https://localhost:8080/",
          "height": 195
        },
        "id": "lE0X6K8L3ZbG",
        "outputId": "0391426c-0e62-42d3-c65a-5f016ced54ca"
      },
      "source": [
        "df.head()"
      ],
      "execution_count": 7,
      "outputs": [
        {
          "output_type": "execute_result",
          "data": {
            "text/html": [
              "<div>\n",
              "<style scoped>\n",
              "    .dataframe tbody tr th:only-of-type {\n",
              "        vertical-align: middle;\n",
              "    }\n",
              "\n",
              "    .dataframe tbody tr th {\n",
              "        vertical-align: top;\n",
              "    }\n",
              "\n",
              "    .dataframe thead th {\n",
              "        text-align: right;\n",
              "    }\n",
              "</style>\n",
              "<table border=\"1\" class=\"dataframe\">\n",
              "  <thead>\n",
              "    <tr style=\"text-align: right;\">\n",
              "      <th></th>\n",
              "      <th>urlid</th>\n",
              "      <th>boilerplate</th>\n",
              "      <th>label</th>\n",
              "    </tr>\n",
              "  </thead>\n",
              "  <tbody>\n",
              "    <tr>\n",
              "      <th>0</th>\n",
              "      <td>4042</td>\n",
              "      <td>\"ibm sees holographic calls air breathing batt...</td>\n",
              "      <td>0</td>\n",
              "    </tr>\n",
              "    <tr>\n",
              "      <th>1</th>\n",
              "      <td>8471</td>\n",
              "      <td>\"the fully electronic futuristic starting gun ...</td>\n",
              "      <td>1</td>\n",
              "    </tr>\n",
              "    <tr>\n",
              "      <th>2</th>\n",
              "      <td>1164</td>\n",
              "      <td>\"fruits that fight the flu fruits that fight t...</td>\n",
              "      <td>1</td>\n",
              "    </tr>\n",
              "    <tr>\n",
              "      <th>3</th>\n",
              "      <td>6684</td>\n",
              "      <td>\"10 foolproof tips for better sleep \",\"body\":\"...</td>\n",
              "      <td>1</td>\n",
              "    </tr>\n",
              "    <tr>\n",
              "      <th>4</th>\n",
              "      <td>9006</td>\n",
              "      <td>\"the 50 coolest jerseys you didn t know existe...</td>\n",
              "      <td>0</td>\n",
              "    </tr>\n",
              "  </tbody>\n",
              "</table>\n",
              "</div>"
            ],
            "text/plain": [
              "   urlid                                        boilerplate  label\n",
              "0   4042  \"ibm sees holographic calls air breathing batt...      0\n",
              "1   8471  \"the fully electronic futuristic starting gun ...      1\n",
              "2   1164  \"fruits that fight the flu fruits that fight t...      1\n",
              "3   6684  \"10 foolproof tips for better sleep \",\"body\":\"...      1\n",
              "4   9006  \"the 50 coolest jerseys you didn t know existe...      0"
            ]
          },
          "metadata": {
            "tags": []
          },
          "execution_count": 7
        }
      ]
    },
    {
      "cell_type": "code",
      "metadata": {
        "id": "nEJMA24f1adS",
        "colab": {
          "base_uri": "https://localhost:8080/",
          "height": 387
        },
        "outputId": "8db9f441-8497-4b44-edd2-5ffe7b73d59c"
      },
      "source": [
        "def clean(df,col):\n",
        "  # Regex Processing\n",
        "  def reg(text):\n",
        "      text = text.replace('''\"body\"''',' ')\n",
        "      text = text.replace(''',''',' ')\n",
        "      text = re.sub(r'@\\w+|rt\\s@\\w+|https?:\\/\\/.*[\\r]*|#\\w+|[^\\w\\s]|[0-9]*|', '', str(text).lower().strip())\n",
        "      text = re.sub('[ \\t]+' , ' ', str(text))\n",
        "      return text\n",
        "\n",
        "  # Removing StopWords\n",
        "  def stopWordRemoval(x):\n",
        "      x = ' '.join([word for word in str(x).split() if word not in (stop)])\n",
        "      return x\n",
        "      \n",
        "  # Lemmating tweets\n",
        "  w_tokenizer = nltk.tokenize.WhitespaceTokenizer()\n",
        "  lemmatizer = nltk.stem.WordNetLemmatizer()\n",
        "  def lemmatize_text(text):\n",
        "      return ' '.join([lemmatizer.lemmatize(w) for w in w_tokenizer.tokenize(text)])\n",
        "\n",
        "  df[col] = df[col].apply(reg)\n",
        "  df[col] = df[col].apply(stopWordRemoval)\n",
        "  df[col] = df[col].apply(lemmatize_text)\n",
        "  return df\n",
        "\n",
        "# Cleaning, Removing Stop Words, Tokenizing and Lemmatizing text\n",
        "df = clean(df,'boilerplate')\n",
        "test = clean(test,'boilerplate')\n",
        "df.head(10)"
      ],
      "execution_count": 90,
      "outputs": [
        {
          "output_type": "error",
          "ename": "KeyboardInterrupt",
          "evalue": "ignored",
          "traceback": [
            "\u001b[0;31m---------------------------------------------------------------------------\u001b[0m",
            "\u001b[0;31mKeyboardInterrupt\u001b[0m                         Traceback (most recent call last)",
            "\u001b[0;32m<ipython-input-90-9b35701876f1>\u001b[0m in \u001b[0;36m<module>\u001b[0;34m()\u001b[0m\n\u001b[1;32m     26\u001b[0m \u001b[0;31m# Cleaning, Removing Stop Words, Tokenizing and Lemmatizing text\u001b[0m\u001b[0;34m\u001b[0m\u001b[0;34m\u001b[0m\u001b[0;34m\u001b[0m\u001b[0m\n\u001b[1;32m     27\u001b[0m \u001b[0mdf\u001b[0m \u001b[0;34m=\u001b[0m \u001b[0mclean\u001b[0m\u001b[0;34m(\u001b[0m\u001b[0mdf\u001b[0m\u001b[0;34m,\u001b[0m\u001b[0;34m'boilerplate'\u001b[0m\u001b[0;34m)\u001b[0m\u001b[0;34m\u001b[0m\u001b[0;34m\u001b[0m\u001b[0m\n\u001b[0;32m---> 28\u001b[0;31m \u001b[0mtest\u001b[0m \u001b[0;34m=\u001b[0m \u001b[0mclean\u001b[0m\u001b[0;34m(\u001b[0m\u001b[0mtest\u001b[0m\u001b[0;34m,\u001b[0m\u001b[0;34m'boilerplate'\u001b[0m\u001b[0;34m)\u001b[0m\u001b[0;34m\u001b[0m\u001b[0;34m\u001b[0m\u001b[0m\n\u001b[0m\u001b[1;32m     29\u001b[0m \u001b[0mdf\u001b[0m\u001b[0;34m.\u001b[0m\u001b[0mhead\u001b[0m\u001b[0;34m(\u001b[0m\u001b[0;36m10\u001b[0m\u001b[0;34m)\u001b[0m\u001b[0;34m\u001b[0m\u001b[0;34m\u001b[0m\u001b[0m\n",
            "\u001b[0;32m<ipython-input-90-9b35701876f1>\u001b[0m in \u001b[0;36mclean\u001b[0;34m(df, col)\u001b[0m\n\u001b[1;32m     21\u001b[0m   \u001b[0mdf\u001b[0m\u001b[0;34m[\u001b[0m\u001b[0mcol\u001b[0m\u001b[0;34m]\u001b[0m \u001b[0;34m=\u001b[0m \u001b[0mdf\u001b[0m\u001b[0;34m[\u001b[0m\u001b[0mcol\u001b[0m\u001b[0;34m]\u001b[0m\u001b[0;34m.\u001b[0m\u001b[0mapply\u001b[0m\u001b[0;34m(\u001b[0m\u001b[0mreg\u001b[0m\u001b[0;34m)\u001b[0m\u001b[0;34m\u001b[0m\u001b[0;34m\u001b[0m\u001b[0m\n\u001b[1;32m     22\u001b[0m   \u001b[0mdf\u001b[0m\u001b[0;34m[\u001b[0m\u001b[0mcol\u001b[0m\u001b[0;34m]\u001b[0m \u001b[0;34m=\u001b[0m \u001b[0mdf\u001b[0m\u001b[0;34m[\u001b[0m\u001b[0mcol\u001b[0m\u001b[0;34m]\u001b[0m\u001b[0;34m.\u001b[0m\u001b[0mapply\u001b[0m\u001b[0;34m(\u001b[0m\u001b[0mstopWordRemoval\u001b[0m\u001b[0;34m)\u001b[0m\u001b[0;34m\u001b[0m\u001b[0;34m\u001b[0m\u001b[0m\n\u001b[0;32m---> 23\u001b[0;31m   \u001b[0mdf\u001b[0m\u001b[0;34m[\u001b[0m\u001b[0mcol\u001b[0m\u001b[0;34m]\u001b[0m \u001b[0;34m=\u001b[0m \u001b[0mdf\u001b[0m\u001b[0;34m[\u001b[0m\u001b[0mcol\u001b[0m\u001b[0;34m]\u001b[0m\u001b[0;34m.\u001b[0m\u001b[0mapply\u001b[0m\u001b[0;34m(\u001b[0m\u001b[0mlemmatize_text\u001b[0m\u001b[0;34m)\u001b[0m\u001b[0;34m\u001b[0m\u001b[0;34m\u001b[0m\u001b[0m\n\u001b[0m\u001b[1;32m     24\u001b[0m   \u001b[0;32mreturn\u001b[0m \u001b[0mdf\u001b[0m\u001b[0;34m\u001b[0m\u001b[0;34m\u001b[0m\u001b[0m\n\u001b[1;32m     25\u001b[0m \u001b[0;34m\u001b[0m\u001b[0m\n",
            "\u001b[0;32m/usr/local/lib/python3.7/dist-packages/pandas/core/series.py\u001b[0m in \u001b[0;36mapply\u001b[0;34m(self, func, convert_dtype, args, **kwds)\u001b[0m\n\u001b[1;32m   4211\u001b[0m             \u001b[0;32melse\u001b[0m\u001b[0;34m:\u001b[0m\u001b[0;34m\u001b[0m\u001b[0;34m\u001b[0m\u001b[0m\n\u001b[1;32m   4212\u001b[0m                 \u001b[0mvalues\u001b[0m \u001b[0;34m=\u001b[0m \u001b[0mself\u001b[0m\u001b[0;34m.\u001b[0m\u001b[0mastype\u001b[0m\u001b[0;34m(\u001b[0m\u001b[0mobject\u001b[0m\u001b[0;34m)\u001b[0m\u001b[0;34m.\u001b[0m\u001b[0m_values\u001b[0m\u001b[0;34m\u001b[0m\u001b[0;34m\u001b[0m\u001b[0m\n\u001b[0;32m-> 4213\u001b[0;31m                 \u001b[0mmapped\u001b[0m \u001b[0;34m=\u001b[0m \u001b[0mlib\u001b[0m\u001b[0;34m.\u001b[0m\u001b[0mmap_infer\u001b[0m\u001b[0;34m(\u001b[0m\u001b[0mvalues\u001b[0m\u001b[0;34m,\u001b[0m \u001b[0mf\u001b[0m\u001b[0;34m,\u001b[0m \u001b[0mconvert\u001b[0m\u001b[0;34m=\u001b[0m\u001b[0mconvert_dtype\u001b[0m\u001b[0;34m)\u001b[0m\u001b[0;34m\u001b[0m\u001b[0;34m\u001b[0m\u001b[0m\n\u001b[0m\u001b[1;32m   4214\u001b[0m \u001b[0;34m\u001b[0m\u001b[0m\n\u001b[1;32m   4215\u001b[0m         \u001b[0;32mif\u001b[0m \u001b[0mlen\u001b[0m\u001b[0;34m(\u001b[0m\u001b[0mmapped\u001b[0m\u001b[0;34m)\u001b[0m \u001b[0;32mand\u001b[0m \u001b[0misinstance\u001b[0m\u001b[0;34m(\u001b[0m\u001b[0mmapped\u001b[0m\u001b[0;34m[\u001b[0m\u001b[0;36m0\u001b[0m\u001b[0;34m]\u001b[0m\u001b[0;34m,\u001b[0m \u001b[0mSeries\u001b[0m\u001b[0;34m)\u001b[0m\u001b[0;34m:\u001b[0m\u001b[0;34m\u001b[0m\u001b[0;34m\u001b[0m\u001b[0m\n",
            "\u001b[0;32mpandas/_libs/lib.pyx\u001b[0m in \u001b[0;36mpandas._libs.lib.map_infer\u001b[0;34m()\u001b[0m\n",
            "\u001b[0;32m<ipython-input-90-9b35701876f1>\u001b[0m in \u001b[0;36mlemmatize_text\u001b[0;34m(text)\u001b[0m\n\u001b[1;32m     17\u001b[0m   \u001b[0mlemmatizer\u001b[0m \u001b[0;34m=\u001b[0m \u001b[0mnltk\u001b[0m\u001b[0;34m.\u001b[0m\u001b[0mstem\u001b[0m\u001b[0;34m.\u001b[0m\u001b[0mWordNetLemmatizer\u001b[0m\u001b[0;34m(\u001b[0m\u001b[0;34m)\u001b[0m\u001b[0;34m\u001b[0m\u001b[0;34m\u001b[0m\u001b[0m\n\u001b[1;32m     18\u001b[0m   \u001b[0;32mdef\u001b[0m \u001b[0mlemmatize_text\u001b[0m\u001b[0;34m(\u001b[0m\u001b[0mtext\u001b[0m\u001b[0;34m)\u001b[0m\u001b[0;34m:\u001b[0m\u001b[0;34m\u001b[0m\u001b[0;34m\u001b[0m\u001b[0m\n\u001b[0;32m---> 19\u001b[0;31m       \u001b[0;32mreturn\u001b[0m \u001b[0;34m' '\u001b[0m\u001b[0;34m.\u001b[0m\u001b[0mjoin\u001b[0m\u001b[0;34m(\u001b[0m\u001b[0;34m[\u001b[0m\u001b[0mlemmatizer\u001b[0m\u001b[0;34m.\u001b[0m\u001b[0mlemmatize\u001b[0m\u001b[0;34m(\u001b[0m\u001b[0mw\u001b[0m\u001b[0;34m)\u001b[0m \u001b[0;32mfor\u001b[0m \u001b[0mw\u001b[0m \u001b[0;32min\u001b[0m \u001b[0mw_tokenizer\u001b[0m\u001b[0;34m.\u001b[0m\u001b[0mtokenize\u001b[0m\u001b[0;34m(\u001b[0m\u001b[0mtext\u001b[0m\u001b[0;34m)\u001b[0m\u001b[0;34m]\u001b[0m\u001b[0;34m)\u001b[0m\u001b[0;34m\u001b[0m\u001b[0;34m\u001b[0m\u001b[0m\n\u001b[0m\u001b[1;32m     20\u001b[0m \u001b[0;34m\u001b[0m\u001b[0m\n\u001b[1;32m     21\u001b[0m   \u001b[0mdf\u001b[0m\u001b[0;34m[\u001b[0m\u001b[0mcol\u001b[0m\u001b[0;34m]\u001b[0m \u001b[0;34m=\u001b[0m \u001b[0mdf\u001b[0m\u001b[0;34m[\u001b[0m\u001b[0mcol\u001b[0m\u001b[0;34m]\u001b[0m\u001b[0;34m.\u001b[0m\u001b[0mapply\u001b[0m\u001b[0;34m(\u001b[0m\u001b[0mreg\u001b[0m\u001b[0;34m)\u001b[0m\u001b[0;34m\u001b[0m\u001b[0;34m\u001b[0m\u001b[0m\n",
            "\u001b[0;32m<ipython-input-90-9b35701876f1>\u001b[0m in \u001b[0;36m<listcomp>\u001b[0;34m(.0)\u001b[0m\n\u001b[1;32m     17\u001b[0m   \u001b[0mlemmatizer\u001b[0m \u001b[0;34m=\u001b[0m \u001b[0mnltk\u001b[0m\u001b[0;34m.\u001b[0m\u001b[0mstem\u001b[0m\u001b[0;34m.\u001b[0m\u001b[0mWordNetLemmatizer\u001b[0m\u001b[0;34m(\u001b[0m\u001b[0;34m)\u001b[0m\u001b[0;34m\u001b[0m\u001b[0;34m\u001b[0m\u001b[0m\n\u001b[1;32m     18\u001b[0m   \u001b[0;32mdef\u001b[0m \u001b[0mlemmatize_text\u001b[0m\u001b[0;34m(\u001b[0m\u001b[0mtext\u001b[0m\u001b[0;34m)\u001b[0m\u001b[0;34m:\u001b[0m\u001b[0;34m\u001b[0m\u001b[0;34m\u001b[0m\u001b[0m\n\u001b[0;32m---> 19\u001b[0;31m       \u001b[0;32mreturn\u001b[0m \u001b[0;34m' '\u001b[0m\u001b[0;34m.\u001b[0m\u001b[0mjoin\u001b[0m\u001b[0;34m(\u001b[0m\u001b[0;34m[\u001b[0m\u001b[0mlemmatizer\u001b[0m\u001b[0;34m.\u001b[0m\u001b[0mlemmatize\u001b[0m\u001b[0;34m(\u001b[0m\u001b[0mw\u001b[0m\u001b[0;34m)\u001b[0m \u001b[0;32mfor\u001b[0m \u001b[0mw\u001b[0m \u001b[0;32min\u001b[0m \u001b[0mw_tokenizer\u001b[0m\u001b[0;34m.\u001b[0m\u001b[0mtokenize\u001b[0m\u001b[0;34m(\u001b[0m\u001b[0mtext\u001b[0m\u001b[0;34m)\u001b[0m\u001b[0;34m]\u001b[0m\u001b[0;34m)\u001b[0m\u001b[0;34m\u001b[0m\u001b[0;34m\u001b[0m\u001b[0m\n\u001b[0m\u001b[1;32m     20\u001b[0m \u001b[0;34m\u001b[0m\u001b[0m\n\u001b[1;32m     21\u001b[0m   \u001b[0mdf\u001b[0m\u001b[0;34m[\u001b[0m\u001b[0mcol\u001b[0m\u001b[0;34m]\u001b[0m \u001b[0;34m=\u001b[0m \u001b[0mdf\u001b[0m\u001b[0;34m[\u001b[0m\u001b[0mcol\u001b[0m\u001b[0;34m]\u001b[0m\u001b[0;34m.\u001b[0m\u001b[0mapply\u001b[0m\u001b[0;34m(\u001b[0m\u001b[0mreg\u001b[0m\u001b[0;34m)\u001b[0m\u001b[0;34m\u001b[0m\u001b[0;34m\u001b[0m\u001b[0m\n",
            "\u001b[0;32m/usr/local/lib/python3.7/dist-packages/nltk/stem/wordnet.py\u001b[0m in \u001b[0;36mlemmatize\u001b[0;34m(self, word, pos)\u001b[0m\n\u001b[1;32m     38\u001b[0m \u001b[0;34m\u001b[0m\u001b[0m\n\u001b[1;32m     39\u001b[0m     \u001b[0;32mdef\u001b[0m \u001b[0mlemmatize\u001b[0m\u001b[0;34m(\u001b[0m\u001b[0mself\u001b[0m\u001b[0;34m,\u001b[0m \u001b[0mword\u001b[0m\u001b[0;34m,\u001b[0m \u001b[0mpos\u001b[0m\u001b[0;34m=\u001b[0m\u001b[0mNOUN\u001b[0m\u001b[0;34m)\u001b[0m\u001b[0;34m:\u001b[0m\u001b[0;34m\u001b[0m\u001b[0;34m\u001b[0m\u001b[0m\n\u001b[0;32m---> 40\u001b[0;31m         \u001b[0mlemmas\u001b[0m \u001b[0;34m=\u001b[0m \u001b[0mwordnet\u001b[0m\u001b[0;34m.\u001b[0m\u001b[0m_morphy\u001b[0m\u001b[0;34m(\u001b[0m\u001b[0mword\u001b[0m\u001b[0;34m,\u001b[0m \u001b[0mpos\u001b[0m\u001b[0;34m)\u001b[0m\u001b[0;34m\u001b[0m\u001b[0;34m\u001b[0m\u001b[0m\n\u001b[0m\u001b[1;32m     41\u001b[0m         \u001b[0;32mreturn\u001b[0m \u001b[0mmin\u001b[0m\u001b[0;34m(\u001b[0m\u001b[0mlemmas\u001b[0m\u001b[0;34m,\u001b[0m \u001b[0mkey\u001b[0m\u001b[0;34m=\u001b[0m\u001b[0mlen\u001b[0m\u001b[0;34m)\u001b[0m \u001b[0;32mif\u001b[0m \u001b[0mlemmas\u001b[0m \u001b[0;32melse\u001b[0m \u001b[0mword\u001b[0m\u001b[0;34m\u001b[0m\u001b[0;34m\u001b[0m\u001b[0m\n\u001b[1;32m     42\u001b[0m \u001b[0;34m\u001b[0m\u001b[0m\n",
            "\u001b[0;32m/usr/local/lib/python3.7/dist-packages/nltk/corpus/reader/wordnet.py\u001b[0m in \u001b[0;36m_morphy\u001b[0;34m(self, form, pos, check_exceptions)\u001b[0m\n\u001b[1;32m   1798\u001b[0m \u001b[0;34m\u001b[0m\u001b[0m\n\u001b[1;32m   1799\u001b[0m         \u001b[0;31m# 1. Apply rules once to the input to get y1, y2, y3, etc.\u001b[0m\u001b[0;34m\u001b[0m\u001b[0;34m\u001b[0m\u001b[0;34m\u001b[0m\u001b[0m\n\u001b[0;32m-> 1800\u001b[0;31m         \u001b[0mforms\u001b[0m \u001b[0;34m=\u001b[0m \u001b[0mapply_rules\u001b[0m\u001b[0;34m(\u001b[0m\u001b[0;34m[\u001b[0m\u001b[0mform\u001b[0m\u001b[0;34m]\u001b[0m\u001b[0;34m)\u001b[0m\u001b[0;34m\u001b[0m\u001b[0;34m\u001b[0m\u001b[0m\n\u001b[0m\u001b[1;32m   1801\u001b[0m \u001b[0;34m\u001b[0m\u001b[0m\n\u001b[1;32m   1802\u001b[0m         \u001b[0;31m# 2. Return all that are in the database (and check the original too)\u001b[0m\u001b[0;34m\u001b[0m\u001b[0;34m\u001b[0m\u001b[0;34m\u001b[0m\u001b[0m\n",
            "\u001b[0;32m/usr/local/lib/python3.7/dist-packages/nltk/corpus/reader/wordnet.py\u001b[0m in \u001b[0;36mapply_rules\u001b[0;34m(forms)\u001b[0m\n\u001b[1;32m   1777\u001b[0m         \u001b[0;32mdef\u001b[0m \u001b[0mapply_rules\u001b[0m\u001b[0;34m(\u001b[0m\u001b[0mforms\u001b[0m\u001b[0;34m)\u001b[0m\u001b[0;34m:\u001b[0m\u001b[0;34m\u001b[0m\u001b[0;34m\u001b[0m\u001b[0m\n\u001b[1;32m   1778\u001b[0m             return [form[:-len(old)] + new\n\u001b[0;32m-> 1779\u001b[0;31m                     \u001b[0;32mfor\u001b[0m \u001b[0mform\u001b[0m \u001b[0;32min\u001b[0m \u001b[0mforms\u001b[0m\u001b[0;34m\u001b[0m\u001b[0;34m\u001b[0m\u001b[0m\n\u001b[0m\u001b[1;32m   1780\u001b[0m                     \u001b[0;32mfor\u001b[0m \u001b[0mold\u001b[0m\u001b[0;34m,\u001b[0m \u001b[0mnew\u001b[0m \u001b[0;32min\u001b[0m \u001b[0msubstitutions\u001b[0m\u001b[0;34m\u001b[0m\u001b[0;34m\u001b[0m\u001b[0m\n\u001b[1;32m   1781\u001b[0m                     if form.endswith(old)]\n",
            "\u001b[0;32m/usr/local/lib/python3.7/dist-packages/nltk/corpus/reader/wordnet.py\u001b[0m in \u001b[0;36m<listcomp>\u001b[0;34m(.0)\u001b[0m\n\u001b[1;32m   1778\u001b[0m             return [form[:-len(old)] + new\n\u001b[1;32m   1779\u001b[0m                     \u001b[0;32mfor\u001b[0m \u001b[0mform\u001b[0m \u001b[0;32min\u001b[0m \u001b[0mforms\u001b[0m\u001b[0;34m\u001b[0m\u001b[0;34m\u001b[0m\u001b[0m\n\u001b[0;32m-> 1780\u001b[0;31m                     \u001b[0;32mfor\u001b[0m \u001b[0mold\u001b[0m\u001b[0;34m,\u001b[0m \u001b[0mnew\u001b[0m \u001b[0;32min\u001b[0m \u001b[0msubstitutions\u001b[0m\u001b[0;34m\u001b[0m\u001b[0;34m\u001b[0m\u001b[0m\n\u001b[0m\u001b[1;32m   1781\u001b[0m                     if form.endswith(old)]\n\u001b[1;32m   1782\u001b[0m \u001b[0;34m\u001b[0m\u001b[0m\n",
            "\u001b[0;31mKeyboardInterrupt\u001b[0m: "
          ]
        }
      ]
    },
    {
      "cell_type": "code",
      "metadata": {
        "colab": {
          "base_uri": "https://localhost:8080/"
        },
        "id": "P4RR9d1iMnHj",
        "outputId": "3b4b8ba5-8e65-4861-dd1b-924121c7ffe3"
      },
      "source": [
        "(df.iloc[99,:])"
      ],
      "execution_count": 96,
      "outputs": [
        {
          "output_type": "execute_result",
          "data": {
            "text/plain": [
              "urlid                                                       6153\n",
              "boilerplate    worst athlete sport history worst athlete spor...\n",
              "label                                                          1\n",
              "Name: 99, dtype: object"
            ]
          },
          "metadata": {
            "tags": []
          },
          "execution_count": 96
        }
      ]
    },
    {
      "cell_type": "code",
      "metadata": {
        "colab": {
          "base_uri": "https://localhost:8080/",
          "height": 343
        },
        "id": "m1qvUSfbT8Rj",
        "outputId": "3cc8c6e8-3695-4180-e175-0f81e182ccc3"
      },
      "source": [
        "test.iloc[1:11]"
      ],
      "execution_count": 10,
      "outputs": [
        {
          "output_type": "execute_result",
          "data": {
            "text/html": [
              "<div>\n",
              "<style scoped>\n",
              "    .dataframe tbody tr th:only-of-type {\n",
              "        vertical-align: middle;\n",
              "    }\n",
              "\n",
              "    .dataframe tbody tr th {\n",
              "        vertical-align: top;\n",
              "    }\n",
              "\n",
              "    .dataframe thead th {\n",
              "        text-align: right;\n",
              "    }\n",
              "</style>\n",
              "<table border=\"1\" class=\"dataframe\">\n",
              "  <thead>\n",
              "    <tr style=\"text-align: right;\">\n",
              "      <th></th>\n",
              "      <th>urlid</th>\n",
              "      <th>boilerplate</th>\n",
              "    </tr>\n",
              "  </thead>\n",
              "  <tbody>\n",
              "    <tr>\n",
              "      <th>1</th>\n",
              "      <td>782</td>\n",
              "      <td>lolpics stun grenade ar funny picture lolpicss...</td>\n",
              "    </tr>\n",
              "    <tr>\n",
              "      <th>2</th>\n",
              "      <td>6962</td>\n",
              "      <td>treadmill treadmill stair climber treadmill xc...</td>\n",
              "    </tr>\n",
              "    <tr>\n",
              "      <th>3</th>\n",
              "      <td>7640</td>\n",
              "      <td>father tactic used assad crush revolt threaten...</td>\n",
              "    </tr>\n",
              "    <tr>\n",
              "      <th>4</th>\n",
              "      <td>3589</td>\n",
              "      <td>stem turn lemon lime juicy atomizer gadget lab...</td>\n",
              "    </tr>\n",
              "    <tr>\n",
              "      <th>5</th>\n",
              "      <td>6719</td>\n",
              "      <td>denmark aim improve health fat tax fat tax den...</td>\n",
              "    </tr>\n",
              "    <tr>\n",
              "      <th>6</th>\n",
              "      <td>3905</td>\n",
              "      <td>loud snoring related silent stroke snoring unp...</td>\n",
              "    </tr>\n",
              "    <tr>\n",
              "      <th>7</th>\n",
              "      <td>9841</td>\n",
              "      <td>sweet potato ravioli lemon sage brown butter s...</td>\n",
              "    </tr>\n",
              "    <tr>\n",
              "      <th>8</th>\n",
              "      <td>7447</td>\n",
              "      <td>offbeat funny news design art graffiti funny h...</td>\n",
              "    </tr>\n",
              "    <tr>\n",
              "      <th>9</th>\n",
              "      <td>4776</td>\n",
              "      <td>fell asleep watching dvd fell asleep watching ...</td>\n",
              "    </tr>\n",
              "    <tr>\n",
              "      <th>10</th>\n",
              "      <td>2879</td>\n",
              "      <td>marthastewart lighter sesame noodle</td>\n",
              "    </tr>\n",
              "  </tbody>\n",
              "</table>\n",
              "</div>"
            ],
            "text/plain": [
              "    urlid                                        boilerplate\n",
              "1     782  lolpics stun grenade ar funny picture lolpicss...\n",
              "2    6962  treadmill treadmill stair climber treadmill xc...\n",
              "3    7640  father tactic used assad crush revolt threaten...\n",
              "4    3589  stem turn lemon lime juicy atomizer gadget lab...\n",
              "5    6719  denmark aim improve health fat tax fat tax den...\n",
              "6    3905  loud snoring related silent stroke snoring unp...\n",
              "7    9841  sweet potato ravioli lemon sage brown butter s...\n",
              "8    7447  offbeat funny news design art graffiti funny h...\n",
              "9    4776  fell asleep watching dvd fell asleep watching ...\n",
              "10   2879                marthastewart lighter sesame noodle"
            ]
          },
          "metadata": {
            "tags": []
          },
          "execution_count": 10
        }
      ]
    },
    {
      "cell_type": "code",
      "metadata": {
        "id": "CXLdJVLFjViz"
      },
      "source": [
        "# df.drop(columns='urlid',inplace=True)\r\n",
        "# test.drop(columns='urlid',inplace=True)"
      ],
      "execution_count": 11,
      "outputs": []
    },
    {
      "cell_type": "markdown",
      "metadata": {
        "id": "zkt5teNv7yJE"
      },
      "source": [
        "# Tensorizing Data"
      ]
    },
    {
      "cell_type": "code",
      "metadata": {
        "id": "P5LCCWLrtOlV",
        "colab": {
          "base_uri": "https://localhost:8080/"
        },
        "outputId": "27360322-345f-4283-e93d-9af0db3f72db"
      },
      "source": [
        "# Spliting into Train and Validation set\n",
        "train, val  = train_test_split(df,random_state = 42,test_size = 0.2)\n",
        "print(train.shape,val.shape)"
      ],
      "execution_count": 12,
      "outputs": [
        {
          "output_type": "stream",
          "text": [
            "(5916, 3) (1479, 3)\n"
          ],
          "name": "stdout"
        }
      ]
    },
    {
      "cell_type": "code",
      "metadata": {
        "id": "eQE5Smfc2k7M"
      },
      "source": [
        "TEXT = data.Field(tokenize = 'spacy', include_lengths = True)\n",
        "LABEL = data.LabelField(dtype = torch.float)"
      ],
      "execution_count": 13,
      "outputs": []
    },
    {
      "cell_type": "code",
      "metadata": {
        "id": "R1wqwiZB2qZq"
      },
      "source": [
        "# Creating Dataset class \n",
        "class DataFrameDataset(data.Dataset):\n",
        "\n",
        "    def __init__(self, df, fields, is_test=False, **kwargs):\n",
        "        examples = []\n",
        "        for i, row in df.iterrows():\n",
        "            label = row.label if not is_test else None\n",
        "            text = row.boilerplate\n",
        "            examples.append(data.Example.fromlist([text, label], fields))\n",
        "\n",
        "        super().__init__(examples, fields, **kwargs)\n",
        "\n",
        "    @staticmethod\n",
        "    def sort_key(ex):\n",
        "        return len(ex.text)\n",
        "\n",
        "    @classmethod\n",
        "    def splits(cls, fields, train_df, val_df=None, test_df=None, **kwargs):\n",
        "        train_data, val_data, test_data = (None, None, None)\n",
        "        data_field = fields\n",
        "\n",
        "        if train_df is not None:\n",
        "            train_data = cls(train_df.copy(), data_field, **kwargs)\n",
        "        if val_df is not None:\n",
        "            val_data = cls(val_df.copy(), data_field, **kwargs)\n",
        "        if test_df is not None:\n",
        "            test_data = cls(test_df.copy(), data_field, True, **kwargs)\n",
        "\n",
        "        return tuple(d for d in (train_data, val_data, test_data) if d is not None)"
      ],
      "execution_count": 14,
      "outputs": []
    },
    {
      "cell_type": "code",
      "metadata": {
        "id": "C_otznnH3tLM"
      },
      "source": [
        "# Creating torch Datasets \n",
        "fields = [('text',TEXT),('label',LABEL)]\n",
        "train_ds, val_ds, test_ds = DataFrameDataset.splits(fields, train_df=train, val_df=val, test_df=test)"
      ],
      "execution_count": 15,
      "outputs": []
    },
    {
      "cell_type": "code",
      "metadata": {
        "id": "GT5Mfsu14zwu",
        "colab": {
          "base_uri": "https://localhost:8080/"
        },
        "outputId": "4b92b5a2-b789-41cd-cd8c-4c8ac1b02160"
      },
      "source": [
        "# Lets look at a random example\n",
        "print(test_ds[0].text)\n",
        "\n",
        "# Check the type \n",
        "print(type(train_ds[15]))"
      ],
      "execution_count": 16,
      "outputs": [
        {
          "output_type": "stream",
          "text": [
            "['homemade', 'enchilada', 'sauce', 'lynn', 'kitchen', 'adventure', 'usually', 'buy', 'enchilada', 'sauce', 'yes', 'knew', 'making', 'never', 'found', 'recipe', 'really', 'happy', 'tried', 'several', 'good', 'stuck', 'canned', 'stuff', 'get', 'grocery', 'store', 'recently', 'talking', 'friend', 'mine', 'lived', 'mexico', 'year', 'know', 'mexican', 'cooking', 'asked', 'made', 'enchilada', 'sauce', 'told', 'basic', 'gave', 'exact', 'recipe', 'decided', 'give', 'try', 'recipe', 'really', 'good', 'best', 'enchilada', 'sauce', 'made', 'great', 'flavor', 'think', 'even', 'better', 'canned', 'sauce', 'husband', 'thought', 'could', 'spicier', 'like', 'enchilada', 'spicy', 'always', 'add', 'chili', 'powder', 'chilies', 'like', 'really', 'spicy', 'kid', 'thought', 'really', 'good', 'like', 'change', 'two', 'thing', 'called', 'green', 'onion', 'used', 'regular', 'onion', 'thought', 'worked', 'great', 'probably', 'continue', 'make', 'way', 'also', 'pureed', 'everything', 'blender', 'wanted', 'smooth', 'sauce', 'want', 'chunky', 'mix', 'ingredient', 'together', 'blend', 'enchilada', 'pretty', 'frugal', 'meal', 'homemade', 'enchilada', 'sauce', 'great', 'way', 'make', 'enchilada', 'even', 'frugal', 'ounce', 'can', 'tomato', 'sauce', 'ounce', 'chopped', 'green', 'chilies', 'undrained', 'cup', 'onion', 'chopped', 'teaspoon', 'chili', 'powder', 'teaspoon', 'ground', 'cumin', 'teaspoon', 'dried', 'oregano', 'clove', 'garlic', 'minced', 'combine', 'tomato', 'sauce', 'ingredient', 'place', 'blender', 'puree', 'ingredient', 'place', 'saucepan', 'heat', 'medium', 'heat', 'heated', 'minute', 'use', 'desired', 'enchilada', 'get', 'free', 'quick', 'easy', 'breakfast', 'ebook', 'subscribe', 'free', 'email', 'update', 'lynn', 'kitchen', 'adventure', 'like', 'article', 'share', 'homemade', 'enchilada', 'sauce', 'recipe', 'came', 'friend', 'mine', 'spent', 'several', 'year', 'mexico', 'lynnskitchenadventures', 'homemade', 'enchilada', 'sauce', 'html']\n",
            "<class 'torchtext.data.example.Example'>\n"
          ],
          "name": "stdout"
        }
      ]
    },
    {
      "cell_type": "code",
      "metadata": {
        "id": "-wEINxms5Bm5",
        "colab": {
          "base_uri": "https://localhost:8080/"
        },
        "outputId": "9261381f-9681-47da-de80-0ab62e6b8447"
      },
      "source": [
        "# Loading Glove embeddings and building vocab\n",
        "MAX_VOCAB_SIZE = 50000\n",
        "\n",
        "TEXT.build_vocab(train_ds, \n",
        "                 vectors = 'glove.42B.300d',\n",
        "                 max_size = MAX_VOCAB_SIZE,\n",
        "                 unk_init = torch.Tensor.zero_)"
      ],
      "execution_count": 17,
      "outputs": [
        {
          "output_type": "stream",
          "text": [
            ".vector_cache/glove.42B.300d.zip: 1.88GB [05:54, 5.30MB/s]                            \n",
            "100%|█████████▉| 1916531/1917494 [03:30<00:00, 9931.41it/s]"
          ],
          "name": "stderr"
        }
      ]
    },
    {
      "cell_type": "code",
      "metadata": {
        "id": "N-agwP1igrij"
      },
      "source": [
        "LABEL.build_vocab(train_ds)"
      ],
      "execution_count": 18,
      "outputs": []
    },
    {
      "cell_type": "code",
      "metadata": {
        "colab": {
          "base_uri": "https://localhost:8080/"
        },
        "id": "91vEFolzGEzk",
        "outputId": "7f545efe-008d-483d-99e7-490ba16bda5e"
      },
      "source": [
        "PAD_IDX = TEXT.vocab.stoi[TEXT.pad_token] \r\n",
        "PAD_IDX"
      ],
      "execution_count": 121,
      "outputs": [
        {
          "output_type": "execute_result",
          "data": {
            "text/plain": [
              "1"
            ]
          },
          "metadata": {
            "tags": []
          },
          "execution_count": 121
        }
      ]
    },
    {
      "cell_type": "markdown",
      "metadata": {
        "id": "UW7dc2Xmvd1l"
      },
      "source": [
        "# Model"
      ]
    },
    {
      "cell_type": "markdown",
      "metadata": {
        "id": "tboQnW5jMfbl"
      },
      "source": [
        "## Architecture "
      ]
    },
    {
      "cell_type": "code",
      "metadata": {
        "id": "J5joSSjgvU1I"
      },
      "source": [
        "# Creating a pytorch BiLSTM Model\n",
        "class Model(nn.Module):\n",
        "    def __init__(self, num_emb, emb_dim, pad_idx, hi_s,out_s, num_la, bidir, drop):\n",
        "        super().__init__()\n",
        "        self.bidir = bidir\n",
        "\n",
        "        self.emb =nn.Embedding(num_embeddings=num_emb,\n",
        "                               embedding_dim=emb_dim,\n",
        "                               padding_idx=pad_idx)\n",
        "        self.lstm =nn.LSTM(input_size=emb_dim,\n",
        "                           hidden_size=hi_s,\n",
        "                           num_layers=num_la,\n",
        "                           bidirectional=bidir,\n",
        "                           dropout = drop)\n",
        "        if bidir:\n",
        "          self.fc_bi = nn.Linear(2*hi_s,hi_s)\n",
        "\n",
        "        self.fc_class = nn.Linear(hi_s,out_s)\n",
        "        self.dropout = nn.Dropout(drop)\n",
        "        self.sigmoid = nn.Sigmoid()\n",
        "    \n",
        "    def forward(self,text,text_len):\n",
        "\n",
        "        embed = self.emb(text)\n",
        "        pack = nn.utils.rnn.pack_padded_sequence(embed, text_len)\n",
        "        out, (hid,cell)  = self.lstm(pack)\n",
        "\n",
        "        if self.bidir:\n",
        "          hid = self.dropout(torch.cat((hid[-2,:,:], hid[-1,:,:]), dim = 1))\n",
        "          hid = self.fc_bi(hid)\n",
        "\n",
        "        out = self.fc_class(hid)\n",
        "        out = torch.squeeze(out)\n",
        "        out = self.sigmoid(out)\n",
        "\n",
        "        return out"
      ],
      "execution_count": 25,
      "outputs": []
    },
    {
      "cell_type": "markdown",
      "metadata": {
        "id": "rlJIxtEqJvow"
      },
      "source": [
        "## Inference"
      ]
    },
    {
      "cell_type": "code",
      "metadata": {
        "colab": {
          "base_uri": "https://localhost:8080/"
        },
        "id": "LA1_S2MoKKNe",
        "outputId": "e5c04fe4-611a-4ee3-dc5d-6cce7267b6bc"
      },
      "source": [
        "# Hyperparameters\n",
        "INPUT_DIM = 50002\n",
        "EMBED_DIM = 300\n",
        "HID_DIM = 128\n",
        "OUT_DIM = 1\n",
        "N_LAYERS = 4\n",
        "BIDIR = True\n",
        "DROP = 0.3\n",
        "PAD_IDX = 1\n",
        "\n",
        "# Initialising Model\n",
        "net = Model(num_emb = INPUT_DIM,\n",
        "            emb_dim = EMBED_DIM,\n",
        "            pad_idx = PAD_IDX,\n",
        "            out_s = OUT_DIM,\n",
        "            hi_s = HID_DIM,\n",
        "            num_la = N_LAYERS,\n",
        "            bidir = BIDIR,\n",
        "            drop = DROP)\n",
        "net.load_state_dict(torch.load(\"/gdrive/MyDrive/Projects/Stylumia/bestModel.pt\"))\n",
        "print(net)"
      ],
      "execution_count": 26,
      "outputs": [
        {
          "output_type": "stream",
          "text": [
            "Model(\n",
            "  (emb): Embedding(50002, 300, padding_idx=1)\n",
            "  (lstm): LSTM(300, 128, num_layers=4, dropout=0.3, bidirectional=True)\n",
            "  (fc_bi): Linear(in_features=256, out_features=128, bias=True)\n",
            "  (fc_class): Linear(in_features=128, out_features=1, bias=True)\n",
            "  (dropout): Dropout(p=0.3, inplace=False)\n",
            "  (sigmoid): Sigmoid()\n",
            ")\n"
          ],
          "name": "stdout"
        }
      ]
    },
    {
      "cell_type": "code",
      "metadata": {
        "id": "ehfc5EtJJrDR"
      },
      "source": [
        "device = torch.device('cuda' if torch.cuda.is_available() else 'cpu')"
      ],
      "execution_count": 27,
      "outputs": []
    },
    {
      "cell_type": "code",
      "metadata": {
        "colab": {
          "base_uri": "https://localhost:8080/"
        },
        "id": "BCAxCf6TTOjL",
        "outputId": "1adc4f9c-e5ff-4f87-f0b4-5051765f8bda"
      },
      "source": [
        "net.to(device)"
      ],
      "execution_count": 42,
      "outputs": [
        {
          "output_type": "execute_result",
          "data": {
            "text/plain": [
              "Model(\n",
              "  (emb): Embedding(50002, 300, padding_idx=1)\n",
              "  (lstm): LSTM(300, 128, num_layers=4, dropout=0.3, bidirectional=True)\n",
              "  (fc_bi): Linear(in_features=256, out_features=128, bias=True)\n",
              "  (fc_class): Linear(in_features=128, out_features=1, bias=True)\n",
              "  (dropout): Dropout(p=0.3, inplace=False)\n",
              "  (sigmoid): Sigmoid()\n",
              ")"
            ]
          },
          "metadata": {
            "tags": []
          },
          "execution_count": 42
        }
      ]
    },
    {
      "cell_type": "code",
      "metadata": {
        "id": "o7DNKQENvJIY"
      },
      "source": [
        "#inference \r\n",
        "import spacy\r\n",
        "nlp = spacy.load('en')\r\n",
        "\r\n",
        "def predict(model, sentence):\r\n",
        "    tokenized = [tok.text for tok in nlp.tokenizer(sentence)]  #tokenize the sentence \r\n",
        "    indexed = [TEXT.vocab.stoi[t] for t in tokenized]          #convert to integer sequence\r\n",
        "    length = [len(indexed)]                                   #compute no. of words\r\n",
        "    tensor = torch.LongTensor(indexed).to(device)              #convert to tensor\r\n",
        "    tensor = tensor.unsqueeze(1)                            #reshape in form of batch,no. of words\r\n",
        "    length_tensor = torch.Tensor(length)               #convert to tensor\r\n",
        "    model.eval()\r\n",
        "    prediction = model(tensor.to(device), length_tensor)                  #prediction \r\n",
        "    return int(torch.round(torch.sigmoid(prediction)).item())"
      ],
      "execution_count": 105,
      "outputs": []
    },
    {
      "cell_type": "code",
      "metadata": {
        "id": "KZj37JSvLco_"
      },
      "source": [
        "result = []\r\n",
        "for i in range(len(test)):\r\n",
        "    _res = predict(net,test.boilerplate[i])\r\n",
        "    _urlid = test.urlid[i]\r\n",
        "    result.append([_urlid,_res])"
      ],
      "execution_count": 111,
      "outputs": []
    },
    {
      "cell_type": "code",
      "metadata": {
        "id": "DoIaa55rQNEo"
      },
      "source": [
        "submit = pd.DataFrame(result,columns=['urlid','predicted'])"
      ],
      "execution_count": 118,
      "outputs": []
    },
    {
      "cell_type": "code",
      "metadata": {
        "id": "ZSj5-g41QyXa"
      },
      "source": [
        "submit.to_csv('/gdrive/MyDrive/Projects/Stylumia/submit.csv')"
      ],
      "execution_count": 120,
      "outputs": []
    },
    {
      "cell_type": "code",
      "metadata": {
        "id": "WHipkMZJRNKz"
      },
      "source": [
        ""
      ],
      "execution_count": null,
      "outputs": []
    }
  ]
}