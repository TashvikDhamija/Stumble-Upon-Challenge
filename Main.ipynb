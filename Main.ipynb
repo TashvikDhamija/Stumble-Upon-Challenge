{
  "nbformat": 4,
  "nbformat_minor": 0,
  "metadata": {
    "colab": {
      "name": "Stylumia_Task.ipynb",
      "provenance": [],
      "collapsed_sections": [
        "o33l8svhBOJ9",
        "RD2CBIXQ1adS",
        "zkt5teNv7yJE",
        "bnOTcozoMuF9",
        "a2ojyxOe2UGS"
      ],
      "authorship_tag": "ABX9TyMIBGcFgrZwUgARzt4jP8Yt"
    },
    "kernelspec": {
      "name": "python3",
      "display_name": "Python 3"
    },
    "accelerator": "GPU"
  },
  "cells": [
    {
      "cell_type": "markdown",
      "metadata": {
        "id": "WQ63BDyuBJ4R"
      },
      "source": [
        "# Mounting and Loading"
      ]
    },
    {
      "cell_type": "code",
      "metadata": {
        "colab": {
          "base_uri": "https://localhost:8080/"
        },
        "id": "8ornwlI7md9E",
        "outputId": "ff73e217-7b79-4be0-bb53-8d7d181e4b47"
      },
      "source": [
        "from google.colab import drive\r\n",
        "drive.mount('/gdrive')"
      ],
      "execution_count": null,
      "outputs": [
        {
          "output_type": "stream",
          "text": [
            "Drive already mounted at /gdrive; to attempt to forcibly remount, call drive.mount(\"/gdrive\", force_remount=True).\n"
          ],
          "name": "stdout"
        }
      ]
    },
    {
      "cell_type": "code",
      "metadata": {
        "id": "TxI7eV95mnnC"
      },
      "source": [
        "# %cd /gdrive/MyDrive/Projects/Stylumia\r\n",
        "# !unzip stumbleupon.zip\r\n",
        "# !rm stumbleupon.zip\r\n",
        "# !unzip /gdrive/MyDrive/Projects/Stylumia/raw_content.zip\r\n",
        "# !rm /gdrive/MyDrive/Projects/Stylumia/raw_content.zip\r\n",
        "# %cd /content/"
      ],
      "execution_count": null,
      "outputs": []
    },
    {
      "cell_type": "code",
      "metadata": {
        "colab": {
          "base_uri": "https://localhost:8080/",
          "height": 286
        },
        "id": "QkeMdrNXu9g1",
        "outputId": "a78c5f06-3424-44cf-f7d5-c0b533af84d4"
      },
      "source": [
        "!pip install torch==1.6.0 "
      ],
      "execution_count": null,
      "outputs": [
        {
          "output_type": "stream",
          "text": [
            "Collecting torch==1.6.0\n",
            "\u001b[?25l  Downloading https://files.pythonhosted.org/packages/5d/5e/35140615fc1f925023f489e71086a9ecc188053d263d3594237281284d82/torch-1.6.0-cp37-cp37m-manylinux1_x86_64.whl (748.8MB)\n",
            "\u001b[K     |████████████████████████████████| 748.8MB 19kB/s \n",
            "\u001b[?25hRequirement already satisfied: numpy in /usr/local/lib/python3.7/dist-packages (from torch==1.6.0) (1.19.5)\n",
            "Requirement already satisfied: future in /usr/local/lib/python3.7/dist-packages (from torch==1.6.0) (0.16.0)\n",
            "\u001b[31mERROR: torchvision 0.8.2+cu101 has requirement torch==1.7.1, but you'll have torch 1.6.0 which is incompatible.\u001b[0m\n",
            "Installing collected packages: torch\n",
            "  Found existing installation: torch 1.7.1+cu101\n",
            "    Uninstalling torch-1.7.1+cu101:\n",
            "      Successfully uninstalled torch-1.7.1+cu101\n",
            "Successfully installed torch-1.6.0\n"
          ],
          "name": "stdout"
        },
        {
          "output_type": "display_data",
          "data": {
            "application/vnd.colab-display-data+json": {
              "pip_warning": {
                "packages": [
                  "torch"
                ]
              }
            }
          },
          "metadata": {
            "tags": []
          }
        }
      ]
    },
    {
      "cell_type": "code",
      "metadata": {
        "id": "GbPyxtkSlqVA",
        "colab": {
          "base_uri": "https://localhost:8080/"
        },
        "outputId": "c0c1d24f-b569-482d-835d-47f29495af5d"
      },
      "source": [
        "import numpy as np\r\n",
        "import matplotlib.pyplot as plt\r\n",
        "import random\r\n",
        "import pandas as pd\r\n",
        "import nltk\r\n",
        "import re\r\n",
        "from sklearn.model_selection import train_test_split\r\n",
        "from nltk.corpus import stopwords\r\n",
        "nltk.download('stopwords')\r\n",
        "nltk.download('wordnet')\r\n",
        "stop = stopwords.words('english')\r\n",
        "\r\n",
        "import torch\r\n",
        "from torchtext import data\r\n",
        "import torch.nn as nn\r\n",
        "import torch.optim as optim"
      ],
      "execution_count": null,
      "outputs": [
        {
          "output_type": "stream",
          "text": [
            "[nltk_data] Downloading package stopwords to /root/nltk_data...\n",
            "[nltk_data]   Unzipping corpora/stopwords.zip.\n",
            "[nltk_data] Downloading package wordnet to /root/nltk_data...\n",
            "[nltk_data]   Unzipping corpora/wordnet.zip.\n"
          ],
          "name": "stdout"
        }
      ]
    },
    {
      "cell_type": "markdown",
      "metadata": {
        "id": "o33l8svhBOJ9"
      },
      "source": [
        "# Data"
      ]
    },
    {
      "cell_type": "code",
      "metadata": {
        "id": "_JF--vK5nggb"
      },
      "source": [
        "# Reading relevant data from the dataset\r\n",
        "df = pd.read_csv('/gdrive/MyDrive/Projects/Stylumia/train.tsv',sep = '\\t',usecols=['urlid','boilerplate','label'])\r\n",
        "test = pd.read_csv('/gdrive/MyDrive/Projects/Stylumia/test.tsv',sep = '\\t',usecols=['urlid','boilerplate'])"
      ],
      "execution_count": null,
      "outputs": []
    },
    {
      "cell_type": "code",
      "metadata": {
        "colab": {
          "base_uri": "https://localhost:8080/"
        },
        "id": "VnucobxBjDuu",
        "outputId": "a2b4d202-203e-43d5-a0ef-e9434e1e7eef"
      },
      "source": [
        "print(df.shape)\r\n",
        "print(test.shape)"
      ],
      "execution_count": null,
      "outputs": [
        {
          "output_type": "stream",
          "text": [
            "(7395, 3)\n",
            "(3171, 2)\n"
          ],
          "name": "stdout"
        }
      ]
    },
    {
      "cell_type": "code",
      "metadata": {
        "colab": {
          "base_uri": "https://localhost:8080/",
          "height": 195
        },
        "id": "M0ltObKF47ay",
        "outputId": "b8165927-1f1c-4cc0-d2e6-52257e0af648"
      },
      "source": [
        "df.head()"
      ],
      "execution_count": null,
      "outputs": [
        {
          "output_type": "execute_result",
          "data": {
            "text/html": [
              "<div>\n",
              "<style scoped>\n",
              "    .dataframe tbody tr th:only-of-type {\n",
              "        vertical-align: middle;\n",
              "    }\n",
              "\n",
              "    .dataframe tbody tr th {\n",
              "        vertical-align: top;\n",
              "    }\n",
              "\n",
              "    .dataframe thead th {\n",
              "        text-align: right;\n",
              "    }\n",
              "</style>\n",
              "<table border=\"1\" class=\"dataframe\">\n",
              "  <thead>\n",
              "    <tr style=\"text-align: right;\">\n",
              "      <th></th>\n",
              "      <th>urlid</th>\n",
              "      <th>boilerplate</th>\n",
              "      <th>label</th>\n",
              "    </tr>\n",
              "  </thead>\n",
              "  <tbody>\n",
              "    <tr>\n",
              "      <th>0</th>\n",
              "      <td>4042</td>\n",
              "      <td>{\"title\":\"IBM Sees Holographic Calls Air Breat...</td>\n",
              "      <td>0</td>\n",
              "    </tr>\n",
              "    <tr>\n",
              "      <th>1</th>\n",
              "      <td>8471</td>\n",
              "      <td>{\"title\":\"The Fully Electronic Futuristic Star...</td>\n",
              "      <td>1</td>\n",
              "    </tr>\n",
              "    <tr>\n",
              "      <th>2</th>\n",
              "      <td>1164</td>\n",
              "      <td>{\"title\":\"Fruits that Fight the Flu fruits tha...</td>\n",
              "      <td>1</td>\n",
              "    </tr>\n",
              "    <tr>\n",
              "      <th>3</th>\n",
              "      <td>6684</td>\n",
              "      <td>{\"title\":\"10 Foolproof Tips for Better Sleep \"...</td>\n",
              "      <td>1</td>\n",
              "    </tr>\n",
              "    <tr>\n",
              "      <th>4</th>\n",
              "      <td>9006</td>\n",
              "      <td>{\"title\":\"The 50 Coolest Jerseys You Didn t Kn...</td>\n",
              "      <td>0</td>\n",
              "    </tr>\n",
              "  </tbody>\n",
              "</table>\n",
              "</div>"
            ],
            "text/plain": [
              "   urlid                                        boilerplate  label\n",
              "0   4042  {\"title\":\"IBM Sees Holographic Calls Air Breat...      0\n",
              "1   8471  {\"title\":\"The Fully Electronic Futuristic Star...      1\n",
              "2   1164  {\"title\":\"Fruits that Fight the Flu fruits tha...      1\n",
              "3   6684  {\"title\":\"10 Foolproof Tips for Better Sleep \"...      1\n",
              "4   9006  {\"title\":\"The 50 Coolest Jerseys You Didn t Kn...      0"
            ]
          },
          "metadata": {
            "tags": []
          },
          "execution_count": 5
        }
      ]
    },
    {
      "cell_type": "markdown",
      "metadata": {
        "id": "RD2CBIXQ1adS"
      },
      "source": [
        "# Cleaning Text"
      ]
    },
    {
      "cell_type": "code",
      "metadata": {
        "id": "7QN3iEy43q_r"
      },
      "source": [
        "# Removing title, url and {} brackets\r\n",
        "df['boilerplate'].replace(to_replace=r'\"title\":', value=\"\",inplace=True,regex=True)\r\n",
        "df['boilerplate'].replace(to_replace=r'\"url\":',value=\"\",inplace=True,regex=True)\r\n",
        "\r\n",
        "df['boilerplate'].replace(to_replace=r'{|}',value=\"\",inplace=True,regex=True)\r\n",
        "df['boilerplate']=df['boilerplate'].str.lower()\r\n",
        "\r\n",
        "test['boilerplate'].replace(to_replace=r'\"title\":', value=\"\",inplace=True,regex=True)\r\n",
        "test['boilerplate'].replace(to_replace=r'\"url\":',value=\"\",inplace=True,regex=True)\r\n",
        "\r\n",
        "test['boilerplate'].replace(to_replace=r'{|}',value=\"\",inplace=True,regex=True)\r\n",
        "test['boilerplate']=test['boilerplate'].str.lower()"
      ],
      "execution_count": null,
      "outputs": []
    },
    {
      "cell_type": "code",
      "metadata": {
        "colab": {
          "base_uri": "https://localhost:8080/",
          "height": 195
        },
        "id": "lE0X6K8L3ZbG",
        "outputId": "86005b2b-0db6-4ca0-ed8c-350a5f6f1020"
      },
      "source": [
        "df.head()"
      ],
      "execution_count": null,
      "outputs": [
        {
          "output_type": "execute_result",
          "data": {
            "text/html": [
              "<div>\n",
              "<style scoped>\n",
              "    .dataframe tbody tr th:only-of-type {\n",
              "        vertical-align: middle;\n",
              "    }\n",
              "\n",
              "    .dataframe tbody tr th {\n",
              "        vertical-align: top;\n",
              "    }\n",
              "\n",
              "    .dataframe thead th {\n",
              "        text-align: right;\n",
              "    }\n",
              "</style>\n",
              "<table border=\"1\" class=\"dataframe\">\n",
              "  <thead>\n",
              "    <tr style=\"text-align: right;\">\n",
              "      <th></th>\n",
              "      <th>urlid</th>\n",
              "      <th>boilerplate</th>\n",
              "      <th>label</th>\n",
              "    </tr>\n",
              "  </thead>\n",
              "  <tbody>\n",
              "    <tr>\n",
              "      <th>0</th>\n",
              "      <td>4042</td>\n",
              "      <td>\"ibm sees holographic calls air breathing batt...</td>\n",
              "      <td>0</td>\n",
              "    </tr>\n",
              "    <tr>\n",
              "      <th>1</th>\n",
              "      <td>8471</td>\n",
              "      <td>\"the fully electronic futuristic starting gun ...</td>\n",
              "      <td>1</td>\n",
              "    </tr>\n",
              "    <tr>\n",
              "      <th>2</th>\n",
              "      <td>1164</td>\n",
              "      <td>\"fruits that fight the flu fruits that fight t...</td>\n",
              "      <td>1</td>\n",
              "    </tr>\n",
              "    <tr>\n",
              "      <th>3</th>\n",
              "      <td>6684</td>\n",
              "      <td>\"10 foolproof tips for better sleep \",\"body\":\"...</td>\n",
              "      <td>1</td>\n",
              "    </tr>\n",
              "    <tr>\n",
              "      <th>4</th>\n",
              "      <td>9006</td>\n",
              "      <td>\"the 50 coolest jerseys you didn t know existe...</td>\n",
              "      <td>0</td>\n",
              "    </tr>\n",
              "  </tbody>\n",
              "</table>\n",
              "</div>"
            ],
            "text/plain": [
              "   urlid                                        boilerplate  label\n",
              "0   4042  \"ibm sees holographic calls air breathing batt...      0\n",
              "1   8471  \"the fully electronic futuristic starting gun ...      1\n",
              "2   1164  \"fruits that fight the flu fruits that fight t...      1\n",
              "3   6684  \"10 foolproof tips for better sleep \",\"body\":\"...      1\n",
              "4   9006  \"the 50 coolest jerseys you didn t know existe...      0"
            ]
          },
          "metadata": {
            "tags": []
          },
          "execution_count": 7
        }
      ]
    },
    {
      "cell_type": "code",
      "metadata": {
        "id": "nEJMA24f1adS",
        "colab": {
          "base_uri": "https://localhost:8080/",
          "height": 195
        },
        "outputId": "58479e2c-7ba3-4f41-c1ce-12ce02e85eed"
      },
      "source": [
        "def clean(df,col):\n",
        "  # Regex Processing\n",
        "  def reg(text):\n",
        "      text = text.replace('''\"body\"''',' ')\n",
        "      text = text.replace(''',''',' ')\n",
        "      text = re.sub(r'@\\w+|rt\\s@\\w+|https?:\\/\\/.*[\\r]*|#\\w+|[^\\w\\s]|[0-9]*|', '', str(text).lower().strip())\n",
        "      text = re.sub('[ \\t]+' , ' ', str(text))\n",
        "      return text\n",
        "\n",
        "  # Removing StopWords\n",
        "  def stopWordRemoval(x):\n",
        "      x = ' '.join([word for word in str(x).split() if word not in (stop)])\n",
        "      return x\n",
        "      \n",
        "  # Lemmating tweets\n",
        "  w_tokenizer = nltk.tokenize.WhitespaceTokenizer()\n",
        "  lemmatizer = nltk.stem.WordNetLemmatizer()\n",
        "  def lemmatize_text(text):\n",
        "      return ' '.join([lemmatizer.lemmatize(w) for w in w_tokenizer.tokenize(text)])\n",
        "\n",
        "  df[col] = df[col].apply(reg)\n",
        "  df[col] = df[col].apply(stopWordRemoval)\n",
        "  df[col] = df[col].apply(lemmatize_text)\n",
        "  return df\n",
        "\n",
        "# Cleaning, Removing Stop Words, Tokenizing and Lemmatizing text\n",
        "df = clean(df,'boilerplate')\n",
        "test = clean(test,'boilerplate')\n",
        "df.head()"
      ],
      "execution_count": null,
      "outputs": [
        {
          "output_type": "execute_result",
          "data": {
            "text/html": [
              "<div>\n",
              "<style scoped>\n",
              "    .dataframe tbody tr th:only-of-type {\n",
              "        vertical-align: middle;\n",
              "    }\n",
              "\n",
              "    .dataframe tbody tr th {\n",
              "        vertical-align: top;\n",
              "    }\n",
              "\n",
              "    .dataframe thead th {\n",
              "        text-align: right;\n",
              "    }\n",
              "</style>\n",
              "<table border=\"1\" class=\"dataframe\">\n",
              "  <thead>\n",
              "    <tr style=\"text-align: right;\">\n",
              "      <th></th>\n",
              "      <th>urlid</th>\n",
              "      <th>boilerplate</th>\n",
              "      <th>label</th>\n",
              "    </tr>\n",
              "  </thead>\n",
              "  <tbody>\n",
              "    <tr>\n",
              "      <th>0</th>\n",
              "      <td>4042</td>\n",
              "      <td>ibm see holographic call air breathing battery...</td>\n",
              "      <td>0</td>\n",
              "    </tr>\n",
              "    <tr>\n",
              "      <th>1</th>\n",
              "      <td>8471</td>\n",
              "      <td>fully electronic futuristic starting gun elimi...</td>\n",
              "      <td>1</td>\n",
              "    </tr>\n",
              "    <tr>\n",
              "      <th>2</th>\n",
              "      <td>1164</td>\n",
              "      <td>fruit fight flu fruit fight flu cold flu men h...</td>\n",
              "      <td>1</td>\n",
              "    </tr>\n",
              "    <tr>\n",
              "      <th>3</th>\n",
              "      <td>6684</td>\n",
              "      <td>foolproof tip better sleep period life lot pro...</td>\n",
              "      <td>1</td>\n",
              "    </tr>\n",
              "    <tr>\n",
              "      <th>4</th>\n",
              "      <td>9006</td>\n",
              "      <td>coolest jersey know existed coolest jersey hav...</td>\n",
              "      <td>0</td>\n",
              "    </tr>\n",
              "  </tbody>\n",
              "</table>\n",
              "</div>"
            ],
            "text/plain": [
              "   urlid                                        boilerplate  label\n",
              "0   4042  ibm see holographic call air breathing battery...      0\n",
              "1   8471  fully electronic futuristic starting gun elimi...      1\n",
              "2   1164  fruit fight flu fruit fight flu cold flu men h...      1\n",
              "3   6684  foolproof tip better sleep period life lot pro...      1\n",
              "4   9006  coolest jersey know existed coolest jersey hav...      0"
            ]
          },
          "metadata": {
            "tags": []
          },
          "execution_count": 8
        }
      ]
    },
    {
      "cell_type": "code",
      "metadata": {
        "colab": {
          "base_uri": "https://localhost:8080/",
          "height": 120
        },
        "id": "P4RR9d1iMnHj",
        "outputId": "b5d972d7-6ae6-404c-ca9e-2d1d645a9472"
      },
      "source": [
        "(df.iloc[9,1])"
      ],
      "execution_count": null,
      "outputs": [
        {
          "output_type": "execute_result",
          "data": {
            "application/vnd.google.colaboratory.intrinsic+json": {
              "type": "string"
            },
            "text/plain": [
              "'howsweeteats cooky cream brownie cooky cream brownie sweet brownie seems get one full week without trying new brownie combination wait see next one going experiment super simple used go brownie recipe added oreo could even boxed brownie make frosting add cooky frosted love frosting brownie mr sweet really enjoyed frosted one waste good day twitter like know last night mr sweet brought home dozen hot pink rose make dinner half unpacked mess strewn different room holey sweat pant got home oh yes half asleep professed undying love continued lay sound eerily similar night proposed good thing brownie counter dad say marriage rarely cooky somewhat melted batter baked look closely see cooky inside brownie best part frosting frosting used cooky cream cupcake creamy delicious look like ice cream beat think brownie made past month one may best love texture chewy gooey brownie crunchy cooky cooky cream brownie square baking chocolate lb butter cup sugar egg cup flour teaspoon vanilla oreo cooky crumbled preheat oven melt butter baking sqaures microwave safe bowl mixing bowl cream melted butter chocolate mixture add sugar vanilla beat fluffy minute add egg beating one time add flour stir combined fold cookie crumbles pour greased x baking dish used x square cake pan bake minute barely done cool frosting changed recipe slightly brownie post recently tried try adding egg cooky cream frosting stick butter softened lb powdered sugar teaspoon vanilla tablespoon milk oreo cooky mix butter powdered sugar together adding sugar gradually mix add vanilla mix milk adding needed continue add milk sugar reach desired consistency crush oreo fold frosting think brownie last another evening house ha kidding may even last mr sweet get home need find spectacular recipe make dinner tonight remind mr sweet married someone year younger old granny tag brownie chocolate recipe brownie seems cant get one full week without trying new brownie combination wait see next one going brownie chocolate recipe'"
            ]
          },
          "metadata": {
            "tags": []
          },
          "execution_count": 9
        }
      ]
    },
    {
      "cell_type": "code",
      "metadata": {
        "colab": {
          "base_uri": "https://localhost:8080/",
          "height": 343
        },
        "id": "m1qvUSfbT8Rj",
        "outputId": "4a360dff-5ccb-47b1-849e-568cc728504a"
      },
      "source": [
        "test.iloc[1:11]"
      ],
      "execution_count": null,
      "outputs": [
        {
          "output_type": "execute_result",
          "data": {
            "text/html": [
              "<div>\n",
              "<style scoped>\n",
              "    .dataframe tbody tr th:only-of-type {\n",
              "        vertical-align: middle;\n",
              "    }\n",
              "\n",
              "    .dataframe tbody tr th {\n",
              "        vertical-align: top;\n",
              "    }\n",
              "\n",
              "    .dataframe thead th {\n",
              "        text-align: right;\n",
              "    }\n",
              "</style>\n",
              "<table border=\"1\" class=\"dataframe\">\n",
              "  <thead>\n",
              "    <tr style=\"text-align: right;\">\n",
              "      <th></th>\n",
              "      <th>boilerplate</th>\n",
              "    </tr>\n",
              "  </thead>\n",
              "  <tbody>\n",
              "    <tr>\n",
              "      <th>1</th>\n",
              "      <td>lolpics stun grenade ar funny picture lolpicss...</td>\n",
              "    </tr>\n",
              "    <tr>\n",
              "      <th>2</th>\n",
              "      <td>treadmill treadmill stair climber treadmill xc...</td>\n",
              "    </tr>\n",
              "    <tr>\n",
              "      <th>3</th>\n",
              "      <td>father tactic used assad crush revolt threaten...</td>\n",
              "    </tr>\n",
              "    <tr>\n",
              "      <th>4</th>\n",
              "      <td>stem turn lemon lime juicy atomizer gadget lab...</td>\n",
              "    </tr>\n",
              "    <tr>\n",
              "      <th>5</th>\n",
              "      <td>denmark aim improve health fat tax fat tax den...</td>\n",
              "    </tr>\n",
              "    <tr>\n",
              "      <th>6</th>\n",
              "      <td>loud snoring related silent stroke snoring unp...</td>\n",
              "    </tr>\n",
              "    <tr>\n",
              "      <th>7</th>\n",
              "      <td>sweet potato ravioli lemon sage brown butter s...</td>\n",
              "    </tr>\n",
              "    <tr>\n",
              "      <th>8</th>\n",
              "      <td>offbeat funny news design art graffiti funny h...</td>\n",
              "    </tr>\n",
              "    <tr>\n",
              "      <th>9</th>\n",
              "      <td>fell asleep watching dvd fell asleep watching ...</td>\n",
              "    </tr>\n",
              "    <tr>\n",
              "      <th>10</th>\n",
              "      <td>marthastewart lighter sesame noodle</td>\n",
              "    </tr>\n",
              "  </tbody>\n",
              "</table>\n",
              "</div>"
            ],
            "text/plain": [
              "                                          boilerplate\n",
              "1   lolpics stun grenade ar funny picture lolpicss...\n",
              "2   treadmill treadmill stair climber treadmill xc...\n",
              "3   father tactic used assad crush revolt threaten...\n",
              "4   stem turn lemon lime juicy atomizer gadget lab...\n",
              "5   denmark aim improve health fat tax fat tax den...\n",
              "6   loud snoring related silent stroke snoring unp...\n",
              "7   sweet potato ravioli lemon sage brown butter s...\n",
              "8   offbeat funny news design art graffiti funny h...\n",
              "9   fell asleep watching dvd fell asleep watching ...\n",
              "10                marthastewart lighter sesame noodle"
            ]
          },
          "metadata": {
            "tags": []
          },
          "execution_count": 50
        }
      ]
    },
    {
      "cell_type": "code",
      "metadata": {
        "id": "CXLdJVLFjViz"
      },
      "source": [
        "# df.drop(columns='urlid',inplace=True)\r\n",
        "# test.drop(columns='urlid',inplace=True)"
      ],
      "execution_count": null,
      "outputs": []
    },
    {
      "cell_type": "markdown",
      "metadata": {
        "id": "zkt5teNv7yJE"
      },
      "source": [
        "# Tensorizing Data"
      ]
    },
    {
      "cell_type": "code",
      "metadata": {
        "id": "P5LCCWLrtOlV",
        "colab": {
          "base_uri": "https://localhost:8080/"
        },
        "outputId": "2ada2740-c8f6-4eb6-e008-e4b43d367c7e"
      },
      "source": [
        "# Spliting into Train and Validation set\n",
        "train, val  = train_test_split(df,random_state = 42,test_size = 0.2)\n",
        "print(train.shape,val.shape)"
      ],
      "execution_count": null,
      "outputs": [
        {
          "output_type": "stream",
          "text": [
            "(5916, 2) (1479, 2)\n"
          ],
          "name": "stdout"
        }
      ]
    },
    {
      "cell_type": "code",
      "metadata": {
        "id": "eQE5Smfc2k7M"
      },
      "source": [
        "TEXT = data.Field(tokenize = 'spacy', include_lengths = True)\n",
        "LABEL = data.LabelField(dtype = torch.float)"
      ],
      "execution_count": null,
      "outputs": []
    },
    {
      "cell_type": "code",
      "metadata": {
        "id": "R1wqwiZB2qZq"
      },
      "source": [
        "# Creating Dataset class \n",
        "class DataFrameDataset(data.Dataset):\n",
        "\n",
        "    def __init__(self, df, fields, is_test=False, **kwargs):\n",
        "        examples = []\n",
        "        for i, row in df.iterrows():\n",
        "            label = row.label if not is_test else None\n",
        "            text = row.boilerplate\n",
        "            examples.append(data.Example.fromlist([text, label], fields))\n",
        "\n",
        "        super().__init__(examples, fields, **kwargs)\n",
        "\n",
        "    @staticmethod\n",
        "    def sort_key(ex):\n",
        "        return len(ex.text)\n",
        "\n",
        "    @classmethod\n",
        "    def splits(cls, fields, train_df, val_df=None, test_df=None, **kwargs):\n",
        "        train_data, val_data, test_data = (None, None, None)\n",
        "        data_field = fields\n",
        "\n",
        "        if train_df is not None:\n",
        "            train_data = cls(train_df.copy(), data_field, **kwargs)\n",
        "        if val_df is not None:\n",
        "            val_data = cls(val_df.copy(), data_field, **kwargs)\n",
        "        if test_df is not None:\n",
        "            test_data = cls(test_df.copy(), data_field, True, **kwargs)\n",
        "\n",
        "        return tuple(d for d in (train_data, val_data, test_data) if d is not None)"
      ],
      "execution_count": null,
      "outputs": []
    },
    {
      "cell_type": "code",
      "metadata": {
        "id": "C_otznnH3tLM"
      },
      "source": [
        "# Creating torch Datasets \n",
        "fields = [('text',TEXT),('label',LABEL)]\n",
        "train_ds, val_ds, test_ds = DataFrameDataset.splits(fields, train_df=train, val_df=val, test_df=test)"
      ],
      "execution_count": null,
      "outputs": []
    },
    {
      "cell_type": "code",
      "metadata": {
        "id": "GT5Mfsu14zwu",
        "colab": {
          "base_uri": "https://localhost:8080/"
        },
        "outputId": "7d1adde8-4158-4912-99cf-b3c8ace097c2"
      },
      "source": [
        "# Lets look at a random example\n",
        "print((test_ds[0]))\n",
        "\n",
        "# Check the type \n",
        "print(type(train_ds[15]))"
      ],
      "execution_count": null,
      "outputs": [
        {
          "output_type": "stream",
          "text": [
            "{'text': ['homemade', 'enchilada', 'sauce', 'lynn', 'kitchen', 'adventure', 'usually', 'buy', 'enchilada', 'sauce', 'yes', 'knew', 'making', 'never', 'found', 'recipe', 'really', 'happy', 'tried', 'several', 'good', 'stuck', 'canned', 'stuff', 'get', 'grocery', 'store', 'recently', 'talking', 'friend', 'mine', 'lived', 'mexico', 'year', 'know', 'mexican', 'cooking', 'asked', 'made', 'enchilada', 'sauce', 'told', 'basic', 'gave', 'exact', 'recipe', 'decided', 'give', 'try', 'recipe', 'really', 'good', 'best', 'enchilada', 'sauce', 'made', 'great', 'flavor', 'think', 'even', 'better', 'canned', 'sauce', 'husband', 'thought', 'could', 'spicier', 'like', 'enchilada', 'spicy', 'always', 'add', 'chili', 'powder', 'chilies', 'like', 'really', 'spicy', 'kid', 'thought', 'really', 'good', 'like', 'change', 'two', 'thing', 'called', 'green', 'onion', 'used', 'regular', 'onion', 'thought', 'worked', 'great', 'probably', 'continue', 'make', 'way', 'also', 'pureed', 'everything', 'blender', 'wanted', 'smooth', 'sauce', 'want', 'chunky', 'mix', 'ingredient', 'together', 'blend', 'enchilada', 'pretty', 'frugal', 'meal', 'homemade', 'enchilada', 'sauce', 'great', 'way', 'make', 'enchilada', 'even', 'frugal', 'ounce', 'can', 'tomato', 'sauce', 'ounce', 'chopped', 'green', 'chilies', 'undrained', 'cup', 'onion', 'chopped', 'teaspoon', 'chili', 'powder', 'teaspoon', 'ground', 'cumin', 'teaspoon', 'dried', 'oregano', 'clove', 'garlic', 'minced', 'combine', 'tomato', 'sauce', 'ingredient', 'place', 'blender', 'puree', 'ingredient', 'place', 'saucepan', 'heat', 'medium', 'heat', 'heated', 'minute', 'use', 'desired', 'enchilada', 'get', 'free', 'quick', 'easy', 'breakfast', 'ebook', 'subscribe', 'free', 'email', 'update', 'lynn', 'kitchen', 'adventure', 'like', 'article', 'share', 'homemade', 'enchilada', 'sauce', 'recipe', 'came', 'friend', 'mine', 'spent', 'several', 'year', 'mexico', 'lynnskitchenadventures', 'homemade', 'enchilada', 'sauce', 'html'], 'label': None}\n",
            "<class 'torchtext.data.example.Example'>\n"
          ],
          "name": "stdout"
        }
      ]
    },
    {
      "cell_type": "code",
      "metadata": {
        "id": "-wEINxms5Bm5",
        "colab": {
          "base_uri": "https://localhost:8080/"
        },
        "outputId": "52f42859-663d-4dad-805b-fe7ddc368e08"
      },
      "source": [
        "# Loading Glove embeddings and building vocab\n",
        "MAX_VOCAB_SIZE = 50000\n",
        "\n",
        "TEXT.build_vocab(train_ds, \n",
        "                 vectors = 'glove.42B.300d',\n",
        "                 max_size = MAX_VOCAB_SIZE,\n",
        "                 unk_init = torch.Tensor.zero_)"
      ],
      "execution_count": null,
      "outputs": [
        {
          "output_type": "stream",
          "text": [
            ".vector_cache/glove.42B.300d.zip: 1.88GB [05:54, 5.30MB/s]                           \n",
            "100%|█████████▉| 1917222/1917494 [03:30<00:00, 9571.93it/s]"
          ],
          "name": "stderr"
        }
      ]
    },
    {
      "cell_type": "code",
      "metadata": {
        "id": "N-agwP1igrij"
      },
      "source": [
        "LABEL.build_vocab(train_ds)"
      ],
      "execution_count": null,
      "outputs": []
    },
    {
      "cell_type": "code",
      "metadata": {
        "id": "5N7UPxHDvSOl"
      },
      "source": [
        "# Creating torch iterators\n",
        "BATCH_SIZE = 64\n",
        "\n",
        "device = torch.device('cuda' if torch.cuda.is_available() else 'cpu')\n",
        "\n",
        "train_iterator, valid_iterator, test_iterator = data.BucketIterator.splits(\n",
        "                                                                (train_ds, val_ds, test_ds), \n",
        "                                                                batch_size = BATCH_SIZE,\n",
        "                                                                sort_within_batch = True,\n",
        "                                                                device = device\n",
        "                                                                                )"
      ],
      "execution_count": null,
      "outputs": []
    },
    {
      "cell_type": "markdown",
      "metadata": {
        "id": "UW7dc2Xmvd1l"
      },
      "source": [
        "# Model"
      ]
    },
    {
      "cell_type": "markdown",
      "metadata": {
        "id": "tboQnW5jMfbl"
      },
      "source": [
        "## Architecture "
      ]
    },
    {
      "cell_type": "code",
      "metadata": {
        "id": "J5joSSjgvU1I"
      },
      "source": [
        "# Creating a pytorch BiLSTM Model\n",
        "class Model(nn.Module):\n",
        "    def __init__(self, num_emb, emb_dim, pad_idx, hi_s,out_s, num_la, bidir, drop):\n",
        "        super().__init__()\n",
        "        self.bidir = bidir\n",
        "\n",
        "        self.emb =nn.Embedding(num_embeddings=num_emb,\n",
        "                               embedding_dim=emb_dim,\n",
        "                               padding_idx=pad_idx)\n",
        "        self.lstm =nn.LSTM(input_size=emb_dim,\n",
        "                           hidden_size=hi_s,\n",
        "                           num_layers=num_la,\n",
        "                           bidirectional=bidir,\n",
        "                           dropout = drop)\n",
        "        if bidir:\n",
        "          self.fc_bi = nn.Linear(2*hi_s,hi_s)\n",
        "\n",
        "        self.fc_class = nn.Linear(hi_s,out_s)\n",
        "        self.dropout = nn.Dropout(drop)\n",
        "        self.sigmoid = nn.Sigmoid()\n",
        "    \n",
        "    def forward(self,text,text_len):\n",
        "\n",
        "        embed = self.emb(text)\n",
        "        pack = nn.utils.rnn.pack_padded_sequence(embed, text_len)\n",
        "        out, (hid,cell)  = self.lstm(pack)\n",
        "\n",
        "        if self.bidir:\n",
        "          hid = self.dropout(torch.cat((hid[-2,:,:], hid[-1,:,:]), dim = 1))\n",
        "          hid = self.fc_bi(hid)\n",
        "\n",
        "        out = self.fc_class(hid)\n",
        "        out = torch.squeeze(out)\n",
        "        out = self.sigmoid(out)\n",
        "\n",
        "        return out"
      ],
      "execution_count": null,
      "outputs": []
    },
    {
      "cell_type": "markdown",
      "metadata": {
        "id": "E4yrvZiGMoCa"
      },
      "source": [
        "## Model Initialising"
      ]
    },
    {
      "cell_type": "code",
      "metadata": {
        "id": "k3aqE9kSzD-W",
        "colab": {
          "base_uri": "https://localhost:8080/"
        },
        "outputId": "94eb724d-f671-490d-9ee8-97411b2b8b34"
      },
      "source": [
        "# Hyperparameters\n",
        "INPUT_DIM = len(TEXT.vocab)\n",
        "EMBED_DIM = 300\n",
        "HID_DIM = 128\n",
        "OUT_DIM = 1\n",
        "N_LAYERS = 4\n",
        "BIDIR = True\n",
        "DROP = 0.3\n",
        "PAD_IDX = TEXT.vocab.stoi[TEXT.pad_token] \n",
        "\n",
        "# Initialising Model\n",
        "net = Model(num_emb = INPUT_DIM,\n",
        "            emb_dim = EMBED_DIM,\n",
        "            pad_idx = PAD_IDX,\n",
        "            out_s = OUT_DIM,\n",
        "            hi_s = HID_DIM,\n",
        "            num_la = N_LAYERS,\n",
        "            bidir = BIDIR,\n",
        "            drop = DROP)\n",
        "print(net)"
      ],
      "execution_count": null,
      "outputs": [
        {
          "output_type": "stream",
          "text": [
            "Model(\n",
            "  (emb): Embedding(50002, 300, padding_idx=1)\n",
            "  (lstm): LSTM(300, 128, num_layers=4, dropout=0.3, bidirectional=True)\n",
            "  (fc_bi): Linear(in_features=256, out_features=128, bias=True)\n",
            "  (fc_class): Linear(in_features=128, out_features=1, bias=True)\n",
            "  (dropout): Dropout(p=0.3, inplace=False)\n",
            "  (sigmoid): Sigmoid()\n",
            ")\n"
          ],
          "name": "stdout"
        }
      ]
    },
    {
      "cell_type": "code",
      "metadata": {
        "id": "8sVbqhT4CdGX",
        "colab": {
          "base_uri": "https://localhost:8080/"
        },
        "outputId": "7dd9b726-f0d5-4070-c42e-653294633f3c"
      },
      "source": [
        "# Loading pretrained embeddings into model\n",
        "pretrained_embeddings = TEXT.vocab.vectors\n",
        "net.emb.weight.data.copy_(pretrained_embeddings)"
      ],
      "execution_count": null,
      "outputs": [
        {
          "output_type": "execute_result",
          "data": {
            "text/plain": [
              "tensor([[ 0.0000,  0.0000,  0.0000,  ...,  0.0000,  0.0000,  0.0000],\n",
              "        [ 0.0000,  0.0000,  0.0000,  ...,  0.0000,  0.0000,  0.0000],\n",
              "        [-0.7597, -0.4705,  0.3506,  ..., -0.5511, -1.0083, -0.3430],\n",
              "        ...,\n",
              "        [ 0.2246, -0.8849,  0.0183,  ..., -0.6791, -0.0796, -0.4462],\n",
              "        [ 0.0000,  0.0000,  0.0000,  ...,  0.0000,  0.0000,  0.0000],\n",
              "        [ 0.0900, -0.1820,  0.0088,  ..., -0.3197,  0.0116,  0.1448]])"
            ]
          },
          "metadata": {
            "tags": []
          },
          "execution_count": 57
        }
      ]
    },
    {
      "cell_type": "code",
      "metadata": {
        "id": "DiknI_KhDFIq"
      },
      "source": [
        "# To initiaise padded to zeros\n",
        "net.emb.weight.data[PAD_IDX] = torch.zeros(EMBED_DIM)"
      ],
      "execution_count": null,
      "outputs": []
    },
    {
      "cell_type": "code",
      "metadata": {
        "id": "X-tssj8RGn57"
      },
      "source": [
        "# Defining Loss and Optimizer \n",
        "lr = 1e-4\n",
        "# wt_dy = 1e-6\n",
        "net.to(device)\n",
        "criterion = nn.BCEWithLogitsLoss()\n",
        "opt = optim.Adam(net.parameters(),lr=lr)\n",
        "scheduler = optim.lr_scheduler.StepLR(opt,75,0.1)"
      ],
      "execution_count": null,
      "outputs": []
    },
    {
      "cell_type": "markdown",
      "metadata": {
        "id": "bnOTcozoMuF9"
      },
      "source": [
        "## Helper Functions"
      ]
    },
    {
      "cell_type": "code",
      "metadata": {
        "id": "Pb4y3UBnJS6o"
      },
      "source": [
        "# Accuracy function\n",
        "def accuracy(pred,true):\n",
        "    rounded_pred = torch.round(torch.sigmoid(pred))\n",
        "    correct = (rounded_pred == true).float()\n",
        "    return correct.sum()/len(correct)"
      ],
      "execution_count": null,
      "outputs": []
    },
    {
      "cell_type": "code",
      "metadata": {
        "id": "B7mOIlRNMYeD"
      },
      "source": [
        "# training function \n",
        "def train(model, iterator):\n",
        "    \n",
        "    epoch_loss = 0\n",
        "    epoch_acc = 0\n",
        "    \n",
        "    model.train()\n",
        "    \n",
        "    for batch in iterator:\n",
        "        text, text_lengths = batch.text\n",
        "        \n",
        "        opt.zero_grad()\n",
        "        predictions = model(text, text_lengths)\n",
        "        loss = criterion(predictions, batch.label)\n",
        "        acc = accuracy(predictions, batch.label)\n",
        "\n",
        "        loss.backward()\n",
        "        opt.step()\n",
        "\n",
        "        epoch_loss += loss.item()\n",
        "        epoch_acc += acc.item()\n",
        "\n",
        "    return epoch_loss / len(iterator), epoch_acc / len(iterator)"
      ],
      "execution_count": null,
      "outputs": []
    },
    {
      "cell_type": "code",
      "metadata": {
        "id": "w4dmmKQFNP3F"
      },
      "source": [
        "# evaluation function\n",
        "def evaluate(model, iterator):\n",
        "    \n",
        "    epoch_loss = 0\n",
        "    epoch_acc = 0\n",
        "    model.eval()\n",
        "    \n",
        "    with torch.no_grad():\n",
        "        for batch in iterator:\n",
        "            text, text_lengths = batch.text\n",
        "            predictions = model(text, text_lengths)\n",
        "            loss = criterion(predictions, batch.label)\n",
        "            acc = accuracy(predictions, batch.label)\n",
        "            \n",
        "            epoch_loss += loss.item()\n",
        "            epoch_acc += acc.item()\n",
        "        \n",
        "    return epoch_loss / len(iterator), epoch_acc / len(iterator)"
      ],
      "execution_count": null,
      "outputs": []
    },
    {
      "cell_type": "code",
      "metadata": {
        "id": "7TTXbJ9HsTc1"
      },
      "source": [
        "from sklearn.metrics import precision_score, f1_score, recall_score, accuracy_score\n",
        "# Score function\n",
        "def evaluate_scores(model, iterator):\n",
        "    \n",
        "    epoch_acc = 0\n",
        "    epoch_f1 = 0\n",
        "    epoch_recall = 0\n",
        "    epoch_precision = 0\n",
        "    model.eval()\n",
        "    \n",
        "    with torch.no_grad():\n",
        "        for batch in iterator:\n",
        "            text, text_lengths = batch.text\n",
        "            predictions = model(text, text_lengths)\n",
        "            rounded_pred = torch.round(torch.sigmoid(predictions))\n",
        "            acc = accuracy_score(rounded_pred.to('cpu'),batch.label.to('cpu'))\n",
        "            f1 = f1_score(rounded_pred.to('cpu'),batch.label.to('cpu'))\n",
        "            pre = precision_score(rounded_pred.to('cpu'),batch.label.to('cpu'))\n",
        "            rec = recall_score(rounded_pred.to('cpu'),batch.label.to('cpu'))\n",
        "            \n",
        "            epoch_acc += acc.item()\n",
        "            epoch_f1 += f1.item()\n",
        "            epoch_precision += pre.item()\n",
        "            epoch_recall += rec.item()\n",
        "    \n",
        "    print(\"Accuracy: %0.4f, F1: %0.4f, Precision: %0.4f, Recall %0.4f\"%(epoch_acc/len(iterator),epoch_f1/len(iterator),epoch_precision/len(iterator),epoch_recall/len(iterator)))\n",
        "    return "
      ],
      "execution_count": null,
      "outputs": []
    },
    {
      "cell_type": "markdown",
      "metadata": {
        "id": "Xuhu4NcCMZc0"
      },
      "source": [
        "## Train Model"
      ]
    },
    {
      "cell_type": "code",
      "metadata": {
        "id": "nAGFGpmFOL9q",
        "colab": {
          "base_uri": "https://localhost:8080/"
        },
        "outputId": "923aa0ba-c2f4-4eef-c912-00fdc6df9517"
      },
      "source": [
        "# Checking Cuda\r\n",
        "print(torch.cuda.is_available())\r\n",
        "print(device)"
      ],
      "execution_count": null,
      "outputs": [
        {
          "output_type": "stream",
          "text": [
            "True\n",
            "cuda\n"
          ],
          "name": "stdout"
        }
      ]
    },
    {
      "cell_type": "code",
      "metadata": {
        "id": "UdbdbXfWNQsZ",
        "colab": {
          "base_uri": "https://localhost:8080/",
          "height": 757
        },
        "outputId": "c8a7675c-6a0d-402b-ce34-1dfe1a999511"
      },
      "source": [
        "%%time\n",
        "# Training Model\n",
        "num_epochs = 200\n",
        "loss=[]\n",
        "val_loss=[]\n",
        "acc=[]\n",
        "val_acc=[]\n",
        "best_val_acc = 0.0\n",
        "for epoch in range(num_epochs):\n",
        "\n",
        "    train_loss, train_acc = train(net, train_iterator)\n",
        "    valid_loss, valid_acc = evaluate(net, valid_iterator)\n",
        "    if scheduler is not None:\n",
        "        scheduler.step()\n",
        "    if epoch % 10 == 0:\n",
        "        print(f'EPOCH:{epoch:d}/{num_epochs:d} |Train Loss: {train_loss:.3f} |Train Acc: {train_acc*100:.2f}% |Val. Loss: {valid_loss:.3f} |Val. Acc: {valid_acc*100:.2f}%')\n",
        "    if valid_acc > best_val_acc:\n",
        "        best_val_acc = valid_acc\n",
        "        torch.save(net.state_dict(), \"/gdrive/MyDrive/Projects/Stylumia/bestModel.pt\")\n",
        "    loss.append(train_loss)\n",
        "    val_loss.append(valid_loss)\n",
        "    acc.append(train_acc)\n",
        "    val_acc.append(valid_acc)"
      ],
      "execution_count": null,
      "outputs": [
        {
          "output_type": "stream",
          "text": [
            "EPOCH:0/200 |Train Loss: 0.685 |Train Acc: 48.53% |Val. Loss: 0.629 |Val. Acc: 48.59%\n",
            "EPOCH:10/200 |Train Loss: 0.584 |Train Acc: 79.73% |Val. Loss: 0.607 |Val. Acc: 77.95%\n",
            "EPOCH:20/200 |Train Loss: 0.578 |Train Acc: 82.17% |Val. Loss: 0.608 |Val. Acc: 79.38%\n",
            "EPOCH:30/200 |Train Loss: 0.575 |Train Acc: 82.81% |Val. Loss: 0.609 |Val. Acc: 79.91%\n",
            "EPOCH:40/200 |Train Loss: 0.575 |Train Acc: 83.80% |Val. Loss: 0.610 |Val. Acc: 79.12%\n",
            "EPOCH:50/200 |Train Loss: 0.573 |Train Acc: 83.86% |Val. Loss: 0.608 |Val. Acc: 78.99%\n",
            "EPOCH:60/200 |Train Loss: 0.571 |Train Acc: 84.96% |Val. Loss: 0.614 |Val. Acc: 79.65%\n",
            "EPOCH:70/200 |Train Loss: 0.570 |Train Acc: 86.42% |Val. Loss: 0.608 |Val. Acc: 80.37%\n",
            "EPOCH:80/200 |Train Loss: 0.569 |Train Acc: 86.23% |Val. Loss: 0.607 |Val. Acc: 80.24%\n",
            "EPOCH:90/200 |Train Loss: 0.569 |Train Acc: 86.25% |Val. Loss: 0.607 |Val. Acc: 80.30%\n",
            "EPOCH:100/200 |Train Loss: 0.569 |Train Acc: 86.32% |Val. Loss: 0.607 |Val. Acc: 80.30%\n",
            "EPOCH:110/200 |Train Loss: 0.568 |Train Acc: 86.25% |Val. Loss: 0.608 |Val. Acc: 80.11%\n",
            "EPOCH:120/200 |Train Loss: 0.568 |Train Acc: 86.45% |Val. Loss: 0.608 |Val. Acc: 80.17%\n",
            "EPOCH:130/200 |Train Loss: 0.568 |Train Acc: 86.54% |Val. Loss: 0.608 |Val. Acc: 80.11%\n",
            "EPOCH:140/200 |Train Loss: 0.568 |Train Acc: 86.98% |Val. Loss: 0.607 |Val. Acc: 80.11%\n",
            "EPOCH:150/200 |Train Loss: 0.568 |Train Acc: 87.03% |Val. Loss: 0.607 |Val. Acc: 80.24%\n",
            "EPOCH:160/200 |Train Loss: 0.568 |Train Acc: 87.08% |Val. Loss: 0.607 |Val. Acc: 80.24%\n",
            "EPOCH:170/200 |Train Loss: 0.568 |Train Acc: 87.18% |Val. Loss: 0.607 |Val. Acc: 80.24%\n",
            "EPOCH:180/200 |Train Loss: 0.568 |Train Acc: 87.03% |Val. Loss: 0.607 |Val. Acc: 80.24%\n"
          ],
          "name": "stdout"
        },
        {
          "output_type": "error",
          "ename": "KeyboardInterrupt",
          "evalue": "ignored",
          "traceback": [
            "\u001b[0;31m---------------------------------------------------------------------------\u001b[0m",
            "\u001b[0;31mKeyboardInterrupt\u001b[0m                         Traceback (most recent call last)",
            "\u001b[0;32m<ipython-input-66-70aca258251f>\u001b[0m in \u001b[0;36m<module>\u001b[0;34m()\u001b[0m\n\u001b[0;32m----> 1\u001b[0;31m \u001b[0mget_ipython\u001b[0m\u001b[0;34m(\u001b[0m\u001b[0;34m)\u001b[0m\u001b[0;34m.\u001b[0m\u001b[0mrun_cell_magic\u001b[0m\u001b[0;34m(\u001b[0m\u001b[0;34m'time'\u001b[0m\u001b[0;34m,\u001b[0m \u001b[0;34m''\u001b[0m\u001b[0;34m,\u001b[0m \u001b[0;34m'# Training Model\\nnum_epochs = 200\\nloss=[]\\nval_loss=[]\\nacc=[]\\nval_acc=[]\\nbest_val_acc = 0.0\\nfor epoch in range(num_epochs):\\n\\n    train_loss, train_acc = train(net, train_iterator)\\n    valid_loss, valid_acc = evaluate(net, valid_iterator)\\n    if scheduler is not None:\\n        scheduler.step()\\n    if epoch % 10 == 0:\\n        print(f\\'EPOCH:{epoch:d}/{num_epochs:d} |Train Loss: {train_loss:.3f} |Train Acc: {train_acc*100:.2f}% |Val. Loss: {valid_loss:.3f} |Val. Acc: {valid_acc*100:.2f}%\\')\\n    if valid_acc > best_val_acc:\\n        best_val_acc = valid_acc\\n        torch.save(net.state_dict(), \"/gdrive/MyDrive/Projects/Stylumia/bestModel.pt\")\\n    loss.append(train_loss)\\n    val_loss.append(valid_loss)\\n    acc.append(train_acc)\\n    val_acc.append(valid_acc)'\u001b[0m\u001b[0;34m)\u001b[0m\u001b[0;34m\u001b[0m\u001b[0;34m\u001b[0m\u001b[0m\n\u001b[0m",
            "\u001b[0;32m/usr/local/lib/python3.7/dist-packages/IPython/core/interactiveshell.py\u001b[0m in \u001b[0;36mrun_cell_magic\u001b[0;34m(self, magic_name, line, cell)\u001b[0m\n\u001b[1;32m   2115\u001b[0m             \u001b[0mmagic_arg_s\u001b[0m \u001b[0;34m=\u001b[0m \u001b[0mself\u001b[0m\u001b[0;34m.\u001b[0m\u001b[0mvar_expand\u001b[0m\u001b[0;34m(\u001b[0m\u001b[0mline\u001b[0m\u001b[0;34m,\u001b[0m \u001b[0mstack_depth\u001b[0m\u001b[0;34m)\u001b[0m\u001b[0;34m\u001b[0m\u001b[0;34m\u001b[0m\u001b[0m\n\u001b[1;32m   2116\u001b[0m             \u001b[0;32mwith\u001b[0m \u001b[0mself\u001b[0m\u001b[0;34m.\u001b[0m\u001b[0mbuiltin_trap\u001b[0m\u001b[0;34m:\u001b[0m\u001b[0;34m\u001b[0m\u001b[0;34m\u001b[0m\u001b[0m\n\u001b[0;32m-> 2117\u001b[0;31m                 \u001b[0mresult\u001b[0m \u001b[0;34m=\u001b[0m \u001b[0mfn\u001b[0m\u001b[0;34m(\u001b[0m\u001b[0mmagic_arg_s\u001b[0m\u001b[0;34m,\u001b[0m \u001b[0mcell\u001b[0m\u001b[0;34m)\u001b[0m\u001b[0;34m\u001b[0m\u001b[0;34m\u001b[0m\u001b[0m\n\u001b[0m\u001b[1;32m   2118\u001b[0m             \u001b[0;32mreturn\u001b[0m \u001b[0mresult\u001b[0m\u001b[0;34m\u001b[0m\u001b[0;34m\u001b[0m\u001b[0m\n\u001b[1;32m   2119\u001b[0m \u001b[0;34m\u001b[0m\u001b[0m\n",
            "\u001b[0;32m<decorator-gen-53>\u001b[0m in \u001b[0;36mtime\u001b[0;34m(self, line, cell, local_ns)\u001b[0m\n",
            "\u001b[0;32m/usr/local/lib/python3.7/dist-packages/IPython/core/magic.py\u001b[0m in \u001b[0;36m<lambda>\u001b[0;34m(f, *a, **k)\u001b[0m\n\u001b[1;32m    186\u001b[0m     \u001b[0;31m# but it's overkill for just that one bit of state.\u001b[0m\u001b[0;34m\u001b[0m\u001b[0;34m\u001b[0m\u001b[0;34m\u001b[0m\u001b[0m\n\u001b[1;32m    187\u001b[0m     \u001b[0;32mdef\u001b[0m \u001b[0mmagic_deco\u001b[0m\u001b[0;34m(\u001b[0m\u001b[0marg\u001b[0m\u001b[0;34m)\u001b[0m\u001b[0;34m:\u001b[0m\u001b[0;34m\u001b[0m\u001b[0;34m\u001b[0m\u001b[0m\n\u001b[0;32m--> 188\u001b[0;31m         \u001b[0mcall\u001b[0m \u001b[0;34m=\u001b[0m \u001b[0;32mlambda\u001b[0m \u001b[0mf\u001b[0m\u001b[0;34m,\u001b[0m \u001b[0;34m*\u001b[0m\u001b[0ma\u001b[0m\u001b[0;34m,\u001b[0m \u001b[0;34m**\u001b[0m\u001b[0mk\u001b[0m\u001b[0;34m:\u001b[0m \u001b[0mf\u001b[0m\u001b[0;34m(\u001b[0m\u001b[0;34m*\u001b[0m\u001b[0ma\u001b[0m\u001b[0;34m,\u001b[0m \u001b[0;34m**\u001b[0m\u001b[0mk\u001b[0m\u001b[0;34m)\u001b[0m\u001b[0;34m\u001b[0m\u001b[0;34m\u001b[0m\u001b[0m\n\u001b[0m\u001b[1;32m    189\u001b[0m \u001b[0;34m\u001b[0m\u001b[0m\n\u001b[1;32m    190\u001b[0m         \u001b[0;32mif\u001b[0m \u001b[0mcallable\u001b[0m\u001b[0;34m(\u001b[0m\u001b[0marg\u001b[0m\u001b[0;34m)\u001b[0m\u001b[0;34m:\u001b[0m\u001b[0;34m\u001b[0m\u001b[0;34m\u001b[0m\u001b[0m\n",
            "\u001b[0;32m/usr/local/lib/python3.7/dist-packages/IPython/core/magics/execution.py\u001b[0m in \u001b[0;36mtime\u001b[0;34m(self, line, cell, local_ns)\u001b[0m\n\u001b[1;32m   1191\u001b[0m         \u001b[0;32melse\u001b[0m\u001b[0;34m:\u001b[0m\u001b[0;34m\u001b[0m\u001b[0;34m\u001b[0m\u001b[0m\n\u001b[1;32m   1192\u001b[0m             \u001b[0mst\u001b[0m \u001b[0;34m=\u001b[0m \u001b[0mclock2\u001b[0m\u001b[0;34m(\u001b[0m\u001b[0;34m)\u001b[0m\u001b[0;34m\u001b[0m\u001b[0;34m\u001b[0m\u001b[0m\n\u001b[0;32m-> 1193\u001b[0;31m             \u001b[0mexec\u001b[0m\u001b[0;34m(\u001b[0m\u001b[0mcode\u001b[0m\u001b[0;34m,\u001b[0m \u001b[0mglob\u001b[0m\u001b[0;34m,\u001b[0m \u001b[0mlocal_ns\u001b[0m\u001b[0;34m)\u001b[0m\u001b[0;34m\u001b[0m\u001b[0;34m\u001b[0m\u001b[0m\n\u001b[0m\u001b[1;32m   1194\u001b[0m             \u001b[0mend\u001b[0m \u001b[0;34m=\u001b[0m \u001b[0mclock2\u001b[0m\u001b[0;34m(\u001b[0m\u001b[0;34m)\u001b[0m\u001b[0;34m\u001b[0m\u001b[0;34m\u001b[0m\u001b[0m\n\u001b[1;32m   1195\u001b[0m             \u001b[0mout\u001b[0m \u001b[0;34m=\u001b[0m \u001b[0;32mNone\u001b[0m\u001b[0;34m\u001b[0m\u001b[0;34m\u001b[0m\u001b[0m\n",
            "\u001b[0;32m<timed exec>\u001b[0m in \u001b[0;36m<module>\u001b[0;34m()\u001b[0m\n",
            "\u001b[0;32m<ipython-input-62-7002cf32f56f>\u001b[0m in \u001b[0;36mevaluate\u001b[0;34m(model, iterator)\u001b[0m\n\u001b[1;32m     13\u001b[0m             \u001b[0macc\u001b[0m \u001b[0;34m=\u001b[0m \u001b[0maccuracy\u001b[0m\u001b[0;34m(\u001b[0m\u001b[0mpredictions\u001b[0m\u001b[0;34m,\u001b[0m \u001b[0mbatch\u001b[0m\u001b[0;34m.\u001b[0m\u001b[0mlabel\u001b[0m\u001b[0;34m)\u001b[0m\u001b[0;34m\u001b[0m\u001b[0;34m\u001b[0m\u001b[0m\n\u001b[1;32m     14\u001b[0m \u001b[0;34m\u001b[0m\u001b[0m\n\u001b[0;32m---> 15\u001b[0;31m             \u001b[0mepoch_loss\u001b[0m \u001b[0;34m+=\u001b[0m \u001b[0mloss\u001b[0m\u001b[0;34m.\u001b[0m\u001b[0mitem\u001b[0m\u001b[0;34m(\u001b[0m\u001b[0;34m)\u001b[0m\u001b[0;34m\u001b[0m\u001b[0;34m\u001b[0m\u001b[0m\n\u001b[0m\u001b[1;32m     16\u001b[0m             \u001b[0mepoch_acc\u001b[0m \u001b[0;34m+=\u001b[0m \u001b[0macc\u001b[0m\u001b[0;34m.\u001b[0m\u001b[0mitem\u001b[0m\u001b[0;34m(\u001b[0m\u001b[0;34m)\u001b[0m\u001b[0;34m\u001b[0m\u001b[0;34m\u001b[0m\u001b[0m\n\u001b[1;32m     17\u001b[0m \u001b[0;34m\u001b[0m\u001b[0m\n",
            "\u001b[0;31mKeyboardInterrupt\u001b[0m: "
          ]
        }
      ]
    },
    {
      "cell_type": "markdown",
      "metadata": {
        "id": "Gos2TLwn2MdG"
      },
      "source": [
        "## Plots and Metrics"
      ]
    },
    {
      "cell_type": "code",
      "metadata": {
        "id": "FgQljueyQPmG",
        "colab": {
          "base_uri": "https://localhost:8080/",
          "height": 265
        },
        "outputId": "9afdf3b0-edf8-43ec-dcd1-6dd1c560b8bc"
      },
      "source": [
        "# Plotting loss\n",
        "plt.plot(np.arange(len(loss)),loss,'g',label='Train Loss')\n",
        "plt.plot(np.arange(len(val_loss)),val_loss,'b',label='Val Loss')\n",
        "plt.legend(bbox_to_anchor=(1.05, 1), loc=2, borderaxespad=0.2)\n",
        "plt.show()"
      ],
      "execution_count": null,
      "outputs": [
        {
          "output_type": "display_data",
          "data": {
            "image/png": "[encoded data removed]",
            "text/plain": [
              "<Figure size 432x288 with 1 Axes>"
            ]
          },
          "metadata": {
            "tags": [],
            "needs_background": "light"
          }
        }
      ]
    },
    {
      "cell_type": "code",
      "metadata": {
        "colab": {
          "base_uri": "https://localhost:8080/",
          "height": 265
        },
        "id": "iiJIW3VQ6wB-",
        "outputId": "033208af-6fb7-4bb8-8483-9a4e9017b920"
      },
      "source": [
        "# Plotting loss of last 50 epochs\r\n",
        "plt.plot(np.arange(len(loss[-50:])),loss[-50:],'g',label='Train Loss')\r\n",
        "plt.plot(np.arange(len(val_loss[-50:])),val_loss[-50:],'b',label='Val Loss')\r\n",
        "plt.legend(bbox_to_anchor=(1.05, 1), loc=2, borderaxespad=0.2)\r\n",
        "plt.show()"
      ],
      "execution_count": null,
      "outputs": [
        {
          "output_type": "display_data",
          "data": {
            "image/png": "[encoded data removed]",
            "text/plain": [
              "<Figure size 432x288 with 1 Axes>"
            ]
          },
          "metadata": {
            "tags": [],
            "needs_background": "light"
          }
        }
      ]
    },
    {
      "cell_type": "code",
      "metadata": {
        "id": "GiEId2QzQPnb",
        "colab": {
          "base_uri": "https://localhost:8080/",
          "height": 265
        },
        "outputId": "f6a974db-02ab-48b8-a4a9-a9f341e85325"
      },
      "source": [
        "# Plotting Accuraries\n",
        "plt.plot(np.arange(len(acc)),acc,'g',label='Train Accuracy')\n",
        "plt.plot(np.arange(len(val_acc)),val_acc,'b',label='Val Accuracy')\n",
        "plt.legend(bbox_to_anchor=(1.05, 1), loc=2, borderaxespad=0.2)\n",
        "plt.show()"
      ],
      "execution_count": null,
      "outputs": [
        {
          "output_type": "display_data",
          "data": {
            "image/png": "[encoded data removed]",
            "text/plain": [
              "<Figure size 432x288 with 1 Axes>"
            ]
          },
          "metadata": {
            "tags": [],
            "needs_background": "light"
          }
        }
      ]
    },
    {
      "cell_type": "code",
      "metadata": {
        "id": "fFahMRqqQPl6",
        "colab": {
          "base_uri": "https://localhost:8080/"
        },
        "outputId": "6311eabd-7315-4b9d-8159-220180ae443f"
      },
      "source": [
        "# Calculating Train Scores\n",
        "_, train_acc_final = evaluate(net, train_iterator)\n",
        "print(\"Train Accuracy = \", train_acc_final*100, \"%\")\n",
        "evaluate_scores(net, train_iterator)"
      ],
      "execution_count": null,
      "outputs": [
        {
          "output_type": "stream",
          "text": [
            "Train Accuracy =  87.36319131748651 %\n",
            "Accuracy: 0.8736, F1: 0.8608, Precision: 0.8553, Recall 0.8729\n"
          ],
          "name": "stdout"
        }
      ]
    },
    {
      "cell_type": "code",
      "metadata": {
        "id": "OIIuLEvzPlKT",
        "colab": {
          "base_uri": "https://localhost:8080/"
        },
        "outputId": "5c78215e-f20f-4d64-b6e9-3913b774aa1c"
      },
      "source": [
        "# Calculating Val Scores\n",
        "_, val_acc_final = evaluate(net, valid_iterator)\n",
        "print(\"Val Accuracy = \", val_acc_final*100, \"%\")\n",
        "evaluate_scores(net, valid_iterator)"
      ],
      "execution_count": null,
      "outputs": [
        {
          "output_type": "stream",
          "text": [
            "Val Accuracy =  80.23623526096344 %\n",
            "Accuracy: 0.8024, F1: 0.7764, Precision: 0.7881, Recall 0.7703\n"
          ],
          "name": "stdout"
        }
      ]
    },
    {
      "cell_type": "markdown",
      "metadata": {
        "id": "5Y4YbJHR-UTj"
      },
      "source": [
        "## Inference"
      ]
    },
    {
      "cell_type": "code",
      "metadata": {
        "colab": {
          "base_uri": "https://localhost:8080/"
        },
        "id": "fQ3YWweQ-Tjf",
        "outputId": "8b92fd3c-4979-43c7-f61e-167781210aab"
      },
      "source": [
        "best = Model(num_emb = INPUT_DIM,\r\n",
        "            emb_dim = EMBED_DIM,\r\n",
        "            pad_idx = PAD_IDX,\r\n",
        "            out_s = OUT_DIM,\r\n",
        "            hi_s = HID_DIM,\r\n",
        "            num_la = N_LAYERS,\r\n",
        "            bidir = BIDIR,\r\n",
        "            drop = DROP)\r\n",
        "best.load_state_dict(torch.load(\"/gdrive/MyDrive/Projects/Stylumia/bestModel.pt\"))"
      ],
      "execution_count": null,
      "outputs": [
        {
          "output_type": "execute_result",
          "data": {
            "text/plain": [
              "<All keys matched successfully>"
            ]
          },
          "metadata": {
            "tags": []
          },
          "execution_count": 72
        }
      ]
    },
    {
      "cell_type": "code",
      "metadata": {
        "colab": {
          "base_uri": "https://localhost:8080/"
        },
        "id": "BCAxCf6TTOjL",
        "outputId": "a5e19184-9522-47b6-e6c5-970b939f4fe0"
      },
      "source": [
        "best.to(device)"
      ],
      "execution_count": null,
      "outputs": [
        {
          "output_type": "execute_result",
          "data": {
            "text/plain": [
              "Model(\n",
              "  (emb): Embedding(50002, 300, padding_idx=1)\n",
              "  (lstm): LSTM(300, 128, num_layers=4, dropout=0.3, bidirectional=True)\n",
              "  (fc_bi): Linear(in_features=256, out_features=128, bias=True)\n",
              "  (fc_class): Linear(in_features=128, out_features=1, bias=True)\n",
              "  (dropout): Dropout(p=0.3, inplace=False)\n",
              "  (sigmoid): Sigmoid()\n",
              ")"
            ]
          },
          "metadata": {
            "tags": []
          },
          "execution_count": 73
        }
      ]
    },
    {
      "cell_type": "code",
      "metadata": {
        "colab": {
          "base_uri": "https://localhost:8080/"
        },
        "id": "HpneU1CLTIf4",
        "outputId": "7cc94409-6420-4e9a-e5ea-a893dcf39f14"
      },
      "source": [
        "# Calculating Train Scores\r\n",
        "_, train_acc_final = evaluate(best, train_iterator)\r\n",
        "print(\"Train Accuracy = \", train_acc_final*100, \"%\")\r\n",
        "evaluate_scores(net, train_iterator)"
      ],
      "execution_count": null,
      "outputs": [
        {
          "output_type": "stream",
          "text": [
            "Train Accuracy =  85.02304150212196 %\n",
            "Accuracy: 0.8736, F1: 0.8613, Precision: 0.8553, Recall 0.8743\n"
          ],
          "name": "stdout"
        }
      ]
    },
    {
      "cell_type": "code",
      "metadata": {
        "colab": {
          "base_uri": "https://localhost:8080/"
        },
        "id": "B_x1SjTWTFwq",
        "outputId": "c44a8599-a1c1-497c-970f-af35cd67d456"
      },
      "source": [
        "_, val_acc_final = evaluate(best, valid_iterator)\r\n",
        "print(\"Val Accuracy = \", val_acc_final*100, \"%\")\r\n",
        "evaluate_scores(net, valid_iterator)"
      ],
      "execution_count": null,
      "outputs": [
        {
          "output_type": "stream",
          "text": [
            "Val Accuracy =  80.8872769276301 %\n",
            "Accuracy: 0.8024, F1: 0.7764, Precision: 0.7881, Recall 0.7703\n"
          ],
          "name": "stdout"
        }
      ]
    },
    {
      "cell_type": "code",
      "metadata": {
        "id": "hscQNGnk6LNn"
      },
      "source": [
        ""
      ],
      "execution_count": null,
      "outputs": []
    }
  ]
}